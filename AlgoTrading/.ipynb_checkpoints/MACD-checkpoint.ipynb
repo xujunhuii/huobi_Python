{
 "cells": [
  {
   "cell_type": "code",
   "execution_count": 64,
   "metadata": {},
   "outputs": [
    {
     "data": {
      "text/plain": [
       "'\\n根据MACD指标的定义，它主要由DIFF、DEA和MACD三部分组成\\n用橙线（DIFF）减去蓝线（DEA）后，再乘以2就能得到MACD指标了\\n柱子的长度就是MACD绝对值的大小，如果MACD大于0，则为红色，如果MACD小于0，则为绿色\\n'"
      ]
     },
     "execution_count": 64,
     "metadata": {},
     "output_type": "execute_result"
    }
   ],
   "source": [
    "\"\"\"\n",
    "根据MACD指标的定义，它主要由DIFF、DEA和MACD三部分组成\n",
    "用橙线（DIFF）减去蓝线（DEA）后，再乘以2就能得到MACD指标了\n",
    "柱子的长度就是MACD绝对值的大小，如果MACD大于0，则为红色，如果MACD小于0，则为绿色\n",
    "\"\"\""
   ]
  },
  {
   "cell_type": "code",
   "execution_count": 10,
   "metadata": {},
   "outputs": [],
   "source": [
    "import pandas as pd\n",
    "pd.set_option('expand_frame_repr', False)  # 当列太多时不换行\n",
    "pd.set_option('display.max_rows', 50000)  # 最多显示数据的行数"
   ]
  },
  {
   "cell_type": "code",
   "execution_count": 11,
   "metadata": {},
   "outputs": [],
   "source": [
    "# 读入股票数据\n",
    "df = pd.read_csv('Huobi_BTC_1h.csv')"
   ]
  },
  {
   "cell_type": "code",
   "execution_count": 12,
   "metadata": {},
   "outputs": [
    {
     "data": {
      "text/html": [
       "<div>\n",
       "<style scoped>\n",
       "    .dataframe tbody tr th:only-of-type {\n",
       "        vertical-align: middle;\n",
       "    }\n",
       "\n",
       "    .dataframe tbody tr th {\n",
       "        vertical-align: top;\n",
       "    }\n",
       "\n",
       "    .dataframe thead th {\n",
       "        text-align: right;\n",
       "    }\n",
       "</style>\n",
       "<table border=\"1\" class=\"dataframe\">\n",
       "  <thead>\n",
       "    <tr style=\"text-align: right;\">\n",
       "      <th></th>\n",
       "      <th>candle_begin_time</th>\n",
       "      <th>open</th>\n",
       "      <th>high</th>\n",
       "      <th>low</th>\n",
       "      <th>close</th>\n",
       "      <th>volume</th>\n",
       "      <th>pre_close</th>\n",
       "    </tr>\n",
       "  </thead>\n",
       "  <tbody>\n",
       "    <tr>\n",
       "      <th>0</th>\n",
       "      <td>1.609840e+12</td>\n",
       "      <td>31352.44</td>\n",
       "      <td>31782.89</td>\n",
       "      <td>31285.07</td>\n",
       "      <td>31781.72</td>\n",
       "      <td>1154.587155</td>\n",
       "      <td>31351.48</td>\n",
       "    </tr>\n",
       "    <tr>\n",
       "      <th>1</th>\n",
       "      <td>1.609850e+12</td>\n",
       "      <td>31781.72</td>\n",
       "      <td>32063.80</td>\n",
       "      <td>31560.79</td>\n",
       "      <td>31582.29</td>\n",
       "      <td>1719.756431</td>\n",
       "      <td>31781.72</td>\n",
       "    </tr>\n",
       "    <tr>\n",
       "      <th>2</th>\n",
       "      <td>1.609850e+12</td>\n",
       "      <td>31582.37</td>\n",
       "      <td>31892.00</td>\n",
       "      <td>31407.02</td>\n",
       "      <td>31460.31</td>\n",
       "      <td>909.242378</td>\n",
       "      <td>31582.29</td>\n",
       "    </tr>\n",
       "    <tr>\n",
       "      <th>3</th>\n",
       "      <td>1.609860e+12</td>\n",
       "      <td>31460.31</td>\n",
       "      <td>32386.05</td>\n",
       "      <td>31110.17</td>\n",
       "      <td>32348.32</td>\n",
       "      <td>2581.589977</td>\n",
       "      <td>31460.31</td>\n",
       "    </tr>\n",
       "    <tr>\n",
       "      <th>4</th>\n",
       "      <td>1.609860e+12</td>\n",
       "      <td>32348.33</td>\n",
       "      <td>32381.12</td>\n",
       "      <td>31914.14</td>\n",
       "      <td>32091.45</td>\n",
       "      <td>1673.310912</td>\n",
       "      <td>32348.32</td>\n",
       "    </tr>\n",
       "  </tbody>\n",
       "</table>\n",
       "</div>"
      ],
      "text/plain": [
       "   candle_begin_time      open      high       low     close       volume  pre_close\n",
       "0       1.609840e+12  31352.44  31782.89  31285.07  31781.72  1154.587155   31351.48\n",
       "1       1.609850e+12  31781.72  32063.80  31560.79  31582.29  1719.756431   31781.72\n",
       "2       1.609850e+12  31582.37  31892.00  31407.02  31460.31   909.242378   31582.29\n",
       "3       1.609860e+12  31460.31  32386.05  31110.17  32348.32  2581.589977   31460.31\n",
       "4       1.609860e+12  32348.33  32381.12  31914.14  32091.45  1673.310912   32348.32"
      ]
     },
     "execution_count": 12,
     "metadata": {},
     "output_type": "execute_result"
    }
   ],
   "source": [
    "df.head()"
   ]
  },
  {
   "cell_type": "code",
   "execution_count": 13,
   "metadata": {},
   "outputs": [],
   "source": [
    "# 计算复权因子\n",
    "df['Restoration factor'] = (df['close'] / df['pre_close']).cumprod()\n",
    "df['Pre_close_restoration'] = df['Restoration factor'] * (df.iloc[-1]['close'] / df.iloc[-1]['pre_close'])"
   ]
  },
  {
   "cell_type": "code",
   "execution_count": 14,
   "metadata": {},
   "outputs": [
    {
     "data": {
      "text/html": [
       "<div>\n",
       "<style scoped>\n",
       "    .dataframe tbody tr th:only-of-type {\n",
       "        vertical-align: middle;\n",
       "    }\n",
       "\n",
       "    .dataframe tbody tr th {\n",
       "        vertical-align: top;\n",
       "    }\n",
       "\n",
       "    .dataframe thead th {\n",
       "        text-align: right;\n",
       "    }\n",
       "</style>\n",
       "<table border=\"1\" class=\"dataframe\">\n",
       "  <thead>\n",
       "    <tr style=\"text-align: right;\">\n",
       "      <th></th>\n",
       "      <th>candle_begin_time</th>\n",
       "      <th>open</th>\n",
       "      <th>high</th>\n",
       "      <th>low</th>\n",
       "      <th>close</th>\n",
       "      <th>volume</th>\n",
       "      <th>pre_close</th>\n",
       "      <th>Restoration factor</th>\n",
       "      <th>Pre_close_restoration</th>\n",
       "    </tr>\n",
       "  </thead>\n",
       "  <tbody>\n",
       "    <tr>\n",
       "      <th>0</th>\n",
       "      <td>1.609840e+12</td>\n",
       "      <td>31352.44</td>\n",
       "      <td>31782.89</td>\n",
       "      <td>31285.07</td>\n",
       "      <td>31781.72</td>\n",
       "      <td>1154.587155</td>\n",
       "      <td>31351.48</td>\n",
       "      <td>1.013723</td>\n",
       "      <td>1.018537</td>\n",
       "    </tr>\n",
       "    <tr>\n",
       "      <th>1</th>\n",
       "      <td>1.609850e+12</td>\n",
       "      <td>31781.72</td>\n",
       "      <td>32063.80</td>\n",
       "      <td>31560.79</td>\n",
       "      <td>31582.29</td>\n",
       "      <td>1719.756431</td>\n",
       "      <td>31781.72</td>\n",
       "      <td>1.007362</td>\n",
       "      <td>1.012145</td>\n",
       "    </tr>\n",
       "    <tr>\n",
       "      <th>2</th>\n",
       "      <td>1.609850e+12</td>\n",
       "      <td>31582.37</td>\n",
       "      <td>31892.00</td>\n",
       "      <td>31407.02</td>\n",
       "      <td>31460.31</td>\n",
       "      <td>909.242378</td>\n",
       "      <td>31582.29</td>\n",
       "      <td>1.003471</td>\n",
       "      <td>1.008236</td>\n",
       "    </tr>\n",
       "    <tr>\n",
       "      <th>3</th>\n",
       "      <td>1.609860e+12</td>\n",
       "      <td>31460.31</td>\n",
       "      <td>32386.05</td>\n",
       "      <td>31110.17</td>\n",
       "      <td>32348.32</td>\n",
       "      <td>2581.589977</td>\n",
       "      <td>31460.31</td>\n",
       "      <td>1.031796</td>\n",
       "      <td>1.036695</td>\n",
       "    </tr>\n",
       "    <tr>\n",
       "      <th>4</th>\n",
       "      <td>1.609860e+12</td>\n",
       "      <td>32348.33</td>\n",
       "      <td>32381.12</td>\n",
       "      <td>31914.14</td>\n",
       "      <td>32091.45</td>\n",
       "      <td>1673.310912</td>\n",
       "      <td>32348.32</td>\n",
       "      <td>1.023602</td>\n",
       "      <td>1.028463</td>\n",
       "    </tr>\n",
       "  </tbody>\n",
       "</table>\n",
       "</div>"
      ],
      "text/plain": [
       "   candle_begin_time      open      high       low     close       volume  pre_close  Restoration factor  Pre_close_restoration\n",
       "0       1.609840e+12  31352.44  31782.89  31285.07  31781.72  1154.587155   31351.48            1.013723               1.018537\n",
       "1       1.609850e+12  31781.72  32063.80  31560.79  31582.29  1719.756431   31781.72            1.007362               1.012145\n",
       "2       1.609850e+12  31582.37  31892.00  31407.02  31460.31   909.242378   31582.29            1.003471               1.008236\n",
       "3       1.609860e+12  31460.31  32386.05  31110.17  32348.32  2581.589977   31460.31            1.031796               1.036695\n",
       "4       1.609860e+12  32348.33  32381.12  31914.14  32091.45  1673.310912   32348.32            1.023602               1.028463"
      ]
     },
     "execution_count": 14,
     "metadata": {},
     "output_type": "execute_result"
    }
   ],
   "source": [
    "df.head()"
   ]
  },
  {
   "cell_type": "code",
   "execution_count": 15,
   "metadata": {},
   "outputs": [],
   "source": [
    "# 计算MACD\n",
    "df['EMA_short'] = df['Pre_close_restoration'].ewm(span=12, adjust=False).mean()\n",
    "df['EMA_long'] = df['Pre_close_restoration'].ewm(span=26, adjust=False).mean()\n",
    "df['DIF'] = df['EMA_short'] - df['EMA_long']\n",
    "df['DEA'] = df['DIF'].ewm(span=9, adjust=False).mean()\n",
    "df['MACD'] = (df['DIF'] - df['DEA']) * 2"
   ]
  },
  {
   "cell_type": "code",
   "execution_count": 16,
   "metadata": {},
   "outputs": [],
   "source": [
    "# macd转正（金叉），产生买入信号\n",
    "condition1 = df['MACD'] > 0\n",
    "condition2 = df['MACD'].shift(1) <= 0\n",
    "df.loc[condition1 & condition2, 'macd_signal'] = 1\n",
    "# macd转负（死叉），产生卖出信号\n",
    "condition1 = df['MACD'] < 0\n",
    "condition2 = df['MACD'].shift(1) >= 0\n",
    "df.loc[condition1 & condition2, 'macd_signal'] = 0"
   ]
  },
  {
   "cell_type": "code",
   "execution_count": 17,
   "metadata": {},
   "outputs": [],
   "source": [
    "# 计算NXX后涨跌幅\n",
    "day_list = [1, 2, 4, 6, 8, 10,12, 14, 16, 18, 20, 22,  24]\n",
    "for i in day_list:\n",
    "    df['%s小时后涨跌幅' % i] = (df['Pre_close_restoration'].shift(-i) - df['Pre_close_restoration']) / df['Pre_close_restoration']\n",
    "    df['%s小时后是否上涨' % i] = df['%s小时后涨跌幅' % i] > 0\n",
    "    df['%s小时后是否上涨' % i].fillna(value=False, inplace=True)"
   ]
  },
  {
   "cell_type": "code",
   "execution_count": 18,
   "metadata": {},
   "outputs": [
    {
     "name": "stdout",
     "output_type": "stream",
     "text": [
      "0.0\n",
      "         1小时后涨跌幅    2小时后涨跌幅    4小时后涨跌幅    6小时后涨跌幅    8小时后涨跌幅   10小时后涨跌幅   12小时后涨跌幅   14小时后涨跌幅   16小时后涨跌幅   18小时后涨跌幅   20小时后涨跌幅   22小时后涨跌幅   24小时后涨跌幅\n",
      "count  75.000000  75.000000  75.000000  75.000000  75.000000  75.000000  75.000000  75.000000  75.000000  75.000000  75.000000  75.000000  75.000000\n",
      "mean    0.001621   0.001773   0.002057   0.002039   0.001913   0.001171   0.001358   0.001668  -0.000126   0.001037   0.001086   0.002931   0.006469\n",
      "std     0.010549   0.021364   0.026005   0.034453   0.037192   0.036188   0.038833   0.041086   0.044666   0.046349   0.048764   0.049083   0.048664\n",
      "min    -0.024524  -0.040958  -0.051632  -0.091365  -0.072418  -0.088895  -0.092208  -0.092534  -0.111291  -0.129814  -0.143428  -0.156605  -0.122726\n",
      "25%    -0.005380  -0.008474  -0.010051  -0.015999  -0.019704  -0.023481  -0.023293  -0.026049  -0.029282  -0.031606  -0.025899  -0.027222  -0.020530\n",
      "50%     0.001844  -0.000458   0.000460   0.002253   0.000829   0.001049   0.000379   0.002755   0.001571   0.004282   0.006781   0.008449   0.005859\n",
      "75%     0.008168   0.008578   0.014973   0.018259   0.018806   0.022772   0.023075   0.024316   0.030275   0.030741   0.033671   0.038970   0.039971\n",
      "max     0.050420   0.115103   0.127475   0.165382   0.141072   0.109831   0.100356   0.116688   0.118483   0.111999   0.100320   0.099097   0.105430\n",
      "1小时后涨跌幅小于0概率 \t 0.41333333333333333\n",
      "2小时后涨跌幅小于0概率 \t 0.5066666666666667\n",
      "4小时后涨跌幅小于0概率 \t 0.49333333333333335\n",
      "6小时后涨跌幅小于0概率 \t 0.49333333333333335\n",
      "8小时后涨跌幅小于0概率 \t 0.48\n",
      "10小时后涨跌幅小于0概率 \t 0.4666666666666667\n",
      "12小时后涨跌幅小于0概率 \t 0.49333333333333335\n",
      "14小时后涨跌幅小于0概率 \t 0.4533333333333333\n",
      "16小时后涨跌幅小于0概率 \t 0.4533333333333333\n",
      "18小时后涨跌幅小于0概率 \t 0.48\n",
      "20小时后涨跌幅小于0概率 \t 0.4533333333333333\n",
      "22小时后涨跌幅小于0概率 \t 0.4533333333333333\n",
      "24小时后涨跌幅小于0概率 \t 0.4266666666666667\n",
      "1.0\n",
      "         1小时后涨跌幅    2小时后涨跌幅    4小时后涨跌幅    6小时后涨跌幅    8小时后涨跌幅   10小时后涨跌幅   12小时后涨跌幅   14小时后涨跌幅   16小时后涨跌幅   18小时后涨跌幅   20小时后涨跌幅   22小时后涨跌幅   24小时后涨跌幅\n",
      "count  75.000000  75.000000  75.000000  75.000000  75.000000  75.000000  74.000000  74.000000  74.000000  74.000000  74.000000  74.000000  74.000000\n",
      "mean    0.000117  -0.000149   0.002391   0.004700   0.006462   0.004505   0.005546   0.008576   0.008084   0.006082   0.004077   0.005709   0.007421\n",
      "std     0.011284   0.015736   0.023939   0.026421   0.032488   0.035394   0.037735   0.042756   0.045138   0.048056   0.051268   0.055533   0.055031\n",
      "min    -0.028485  -0.041168  -0.053086  -0.071648  -0.100098  -0.103371  -0.124027  -0.154968  -0.111596  -0.147877  -0.140524  -0.170176  -0.161320\n",
      "25%    -0.006301  -0.009370  -0.015179  -0.005340  -0.012366  -0.013461  -0.011123  -0.011192  -0.017869  -0.018135  -0.017916  -0.014728  -0.019023\n",
      "50%     0.000687   0.001122   0.003695   0.008227   0.009337   0.007590   0.006913   0.005538   0.005478   0.007502   0.005605   0.011466   0.012276\n",
      "75%     0.006892   0.010041   0.018776   0.022268   0.026106   0.022143   0.027689   0.038862   0.039572   0.033084   0.042203   0.041692   0.044403\n",
      "max     0.028391   0.035912   0.045089   0.062749   0.072853   0.079959   0.069596   0.101927   0.121841   0.113025   0.100098   0.138275   0.151977\n",
      "1小时后涨跌幅大于0概率 \t 0.5333333333333333\n",
      "2小时后涨跌幅大于0概率 \t 0.52\n",
      "4小时后涨跌幅大于0概率 \t 0.5466666666666666\n",
      "6小时后涨跌幅大于0概率 \t 0.64\n",
      "8小时后涨跌幅大于0概率 \t 0.6533333333333333\n",
      "10小时后涨跌幅大于0概率 \t 0.6\n",
      "12小时后涨跌幅大于0概率 \t 0.56\n",
      "14小时后涨跌幅大于0概率 \t 0.6\n",
      "16小时后涨跌幅大于0概率 \t 0.5733333333333334\n",
      "18小时后涨跌幅大于0概率 \t 0.5733333333333334\n",
      "20小时后涨跌幅大于0概率 \t 0.5466666666666666\n",
      "22小时后涨跌幅大于0概率 \t 0.5866666666666667\n",
      "24小时后涨跌幅大于0概率 \t 0.5866666666666667\n"
     ]
    }
   ],
   "source": [
    "# 统计数据\n",
    "for signal, group in df.groupby('macd_signal'):\n",
    "    print(signal)\n",
    "    print(group[[str(i) + '小时后涨跌幅' for i in day_list]].describe())\n",
    "    for i in day_list:\n",
    "        if signal == 1:\n",
    "            print(str(i) + '小时后涨跌幅大于0概率', '\\t', float(group[group[str(i) + '小时后涨跌幅'] > 0].shape[0]) / group.shape[0])\n",
    "        elif signal == 0:\n",
    "            print(str(i) + '小时后涨跌幅小于0概率', '\\t', float(group[group[str(i) + '小时后涨跌幅'] < 0].shape[0]) / group.shape[0])\n"
   ]
  },
  {
   "cell_type": "code",
   "execution_count": 63,
   "metadata": {},
   "outputs": [],
   "source": [
    "df.to_csv('1.csv')"
   ]
  },
  {
   "cell_type": "code",
   "execution_count": null,
   "metadata": {},
   "outputs": [],
   "source": []
  }
 ],
 "metadata": {
  "kernelspec": {
   "display_name": "Python 3",
   "language": "python",
   "name": "python3"
  },
  "language_info": {
   "codemirror_mode": {
    "name": "ipython",
    "version": 3
   },
   "file_extension": ".py",
   "mimetype": "text/x-python",
   "name": "python",
   "nbconvert_exporter": "python",
   "pygments_lexer": "ipython3",
   "version": "3.6.9"
  }
 },
 "nbformat": 4,
 "nbformat_minor": 2
}
