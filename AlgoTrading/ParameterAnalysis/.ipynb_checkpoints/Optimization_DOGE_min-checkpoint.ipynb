{
 "cells": [
  {
   "cell_type": "code",
   "execution_count": 4,
   "id": "mexican-contemporary",
   "metadata": {},
   "outputs": [
    {
     "name": "stdout",
     "output_type": "stream",
     "text": [
      "The lab_black extension is already loaded. To reload it, use:\n",
      "  %reload_ext lab_black\n"
     ]
    },
    {
     "data": {
      "text/html": [
       "<div>\n",
       "<style scoped>\n",
       "    .dataframe tbody tr th:only-of-type {\n",
       "        vertical-align: middle;\n",
       "    }\n",
       "\n",
       "    .dataframe tbody tr th {\n",
       "        vertical-align: top;\n",
       "    }\n",
       "\n",
       "    .dataframe thead th {\n",
       "        text-align: right;\n",
       "    }\n",
       "</style>\n",
       "<table border=\"1\" class=\"dataframe\">\n",
       "  <thead>\n",
       "    <tr style=\"text-align: right;\">\n",
       "      <th></th>\n",
       "      <th>time</th>\n",
       "      <th>close</th>\n",
       "    </tr>\n",
       "  </thead>\n",
       "  <tbody>\n",
       "    <tr>\n",
       "      <th>0</th>\n",
       "      <td>1446076800</td>\n",
       "      <td>313.63</td>\n",
       "    </tr>\n",
       "    <tr>\n",
       "      <th>1</th>\n",
       "      <td>1446163200</td>\n",
       "      <td>327.12</td>\n",
       "    </tr>\n",
       "    <tr>\n",
       "      <th>2</th>\n",
       "      <td>1446249600</td>\n",
       "      <td>311.24</td>\n",
       "    </tr>\n",
       "    <tr>\n",
       "      <th>3</th>\n",
       "      <td>1446336000</td>\n",
       "      <td>322.95</td>\n",
       "    </tr>\n",
       "    <tr>\n",
       "      <th>4</th>\n",
       "      <td>1446422400</td>\n",
       "      <td>359.28</td>\n",
       "    </tr>\n",
       "    <tr>\n",
       "      <th>...</th>\n",
       "      <td>...</td>\n",
       "      <td>...</td>\n",
       "    </tr>\n",
       "    <tr>\n",
       "      <th>1996</th>\n",
       "      <td>1618531200</td>\n",
       "      <td>61416.41</td>\n",
       "    </tr>\n",
       "    <tr>\n",
       "      <th>1997</th>\n",
       "      <td>1618617600</td>\n",
       "      <td>60056.07</td>\n",
       "    </tr>\n",
       "    <tr>\n",
       "      <th>1998</th>\n",
       "      <td>1618704000</td>\n",
       "      <td>56246.82</td>\n",
       "    </tr>\n",
       "    <tr>\n",
       "      <th>1999</th>\n",
       "      <td>1618790400</td>\n",
       "      <td>55680.11</td>\n",
       "    </tr>\n",
       "    <tr>\n",
       "      <th>2000</th>\n",
       "      <td>1618876800</td>\n",
       "      <td>54779.52</td>\n",
       "    </tr>\n",
       "  </tbody>\n",
       "</table>\n",
       "<p>2001 rows × 2 columns</p>\n",
       "</div>"
      ],
      "text/plain": [
       "            time     close\n",
       "0     1446076800    313.63\n",
       "1     1446163200    327.12\n",
       "2     1446249600    311.24\n",
       "3     1446336000    322.95\n",
       "4     1446422400    359.28\n",
       "...          ...       ...\n",
       "1996  1618531200  61416.41\n",
       "1997  1618617600  60056.07\n",
       "1998  1618704000  56246.82\n",
       "1999  1618790400  55680.11\n",
       "2000  1618876800  54779.52\n",
       "\n",
       "[2001 rows x 2 columns]"
      ]
     },
     "execution_count": 4,
     "metadata": {},
     "output_type": "execute_result"
    }
   ],
   "source": [
    "%load_ext lab_black\n",
    "import pandas as pd\n",
    "import json\n",
    "\n",
    "\n",
    "f = open(\"histoday_BTC.json\",)\n",
    "data = json.load(f)\n",
    "data = pd.DataFrame.from_dict(data[\"Data\"][\"Data\"])\n",
    "data = data[[\"time\", \"close\"]]\n",
    "f.close()\n",
    "data"
   ]
  },
  {
   "cell_type": "code",
   "execution_count": 5,
   "id": "expanded-gabriel",
   "metadata": {},
   "outputs": [
    {
     "data": {
      "text/plain": [
       "-39565.07"
      ]
     },
     "execution_count": 5,
     "metadata": {},
     "output_type": "execute_result"
    }
   ],
   "source": [
    "def get_profit(lower_limit, upper_limit):\n",
    "    i = 0\n",
    "    profit = 0\n",
    "    records = []\n",
    "    n = 0\n",
    "    for index, row in data.iterrows():\n",
    "        day = index\n",
    "        price = row[\"close\"]\n",
    "        if i % 2 == 0:\n",
    "            if row[\"RSI\"] <= lower_limit and n == 0:\n",
    "                profit -= price\n",
    "                records.append([\"Buying\", -round(price), round(profit), day])\n",
    "                n += 1\n",
    "                i += 1\n",
    "        else:\n",
    "            if row[\"RSI\"] >= upper_limit and n >= 0 and profit + price >= 1:\n",
    "                profit += price\n",
    "                records.append([\"Selling\", round(price), round(profit), day])\n",
    "                n -= 1\n",
    "                i += 1\n",
    "    return profit\n",
    "\n",
    "\n",
    "def calculation(data, window_length, lower_limit, upper_limit):\n",
    "    delta = data[\"close\"].diff()\n",
    "    up, down = delta.copy(), delta.copy()\n",
    "    up[up <= 1] = 0\n",
    "    down[down >= 2] = 0\n",
    "    roll_up1 = up.ewm(span=window_length).mean()\n",
    "    roll_down1 = down.abs().ewm(span=window_length).mean()\n",
    "    RS1 = roll_up1 / roll_down1\n",
    "    RSI1 = 100.0 - (100.0 / (1.0 + RS1))\n",
    "    data.loc[:, \"RSI\"] = RSI1\n",
    "    data.loc[:, \"TimeStamp\"] = pd.to_datetime(data[\"time\"], unit=\"s\")\n",
    "    data = data.set_index(\"TimeStamp\")\n",
    "    return get_profit(lower_limit, upper_limit)\n",
    "\n",
    "\n",
    "calculation(data, 14, 50, 60)"
   ]
  },
  {
   "cell_type": "code",
   "execution_count": null,
   "id": "actual-improvement",
   "metadata": {
    "scrolled": true
   },
   "outputs": [
    {
     "name": "stderr",
     "output_type": "stream",
     "text": [
      "  0%|          | 0/10 [00:00<?, ?it/s]"
     ]
    }
   ],
   "source": [
    "%%time\n",
    "from tqdm import tqdm\n",
    "optimizations=[]\n",
    "for window_length in tqdm(range(10, 20)):\n",
    "    for lower_limit in range(10, 30):\n",
    "        for upper_limit in range(80, 100):\n",
    "            profit = calculation(data, window_length, lower_limit,upper_limit)\n",
    "            optimizations.append([profit, window_length, lower_limit, upper_limit])"
   ]
  },
  {
   "cell_type": "code",
   "execution_count": null,
   "id": "coordinate-turning",
   "metadata": {},
   "outputs": [],
   "source": [
    "optimization_df = pd.DataFrame(\n",
    "    optimizations, columns=[\"Profit\", \"WindowLength\", \"LowerLimit\", \"UpperLimit\"]\n",
    ")\n",
    "pd.set_option(\"max_rows\", 30)\n",
    "optimization_df"
   ]
  },
  {
   "cell_type": "code",
   "execution_count": 16,
   "id": "sophisticated-pension",
   "metadata": {},
   "outputs": [],
   "source": [
    "# optimization_df.to_excel(\"Profit_Optimization_BTC_day.xlsx\")"
   ]
  },
  {
   "cell_type": "code",
   "execution_count": null,
   "id": "excess-paper",
   "metadata": {},
   "outputs": [],
   "source": []
  }
 ],
 "metadata": {
  "kernelspec": {
   "display_name": "Python 3",
   "language": "python",
   "name": "python3"
  },
  "language_info": {
   "codemirror_mode": {
    "name": "ipython",
    "version": 3
   },
   "file_extension": ".py",
   "mimetype": "text/x-python",
   "name": "python",
   "nbconvert_exporter": "python",
   "pygments_lexer": "ipython3",
   "version": "3.8.8"
  }
 },
 "nbformat": 4,
 "nbformat_minor": 5
}
