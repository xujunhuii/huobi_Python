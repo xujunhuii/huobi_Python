{
 "cells": [
  {
   "cell_type": "code",
   "execution_count": null,
   "metadata": {},
   "outputs": [],
   "source": [
    "%load_ext lab_black\n",
    "import ccxt\n",
    "import time\n",
    "import pandas as pd"
   ]
  },
  {
   "cell_type": "code",
   "execution_count": null,
   "metadata": {},
   "outputs": [],
   "source": [
    "exchange = ccxt.binance()"
   ]
  },
  {
   "cell_type": "code",
   "execution_count": null,
   "metadata": {},
   "outputs": [],
   "source": [
    "# Ticker data\n",
    "# data = exchange.fetchTicker(symbol = 'BTC/USDT')"
   ]
  },
  {
   "cell_type": "code",
   "execution_count": 8,
   "metadata": {},
   "outputs": [
    {
     "name": "stdout",
     "output_type": "stream",
     "text": [
      "1618919340000\n"
     ]
    }
   ],
   "source": [
    "current_time = int(time.time() // 60 * 60 * 1000)  # ms\n",
    "print(current_time)\n",
    "limit = 100"
   ]
  },
  {
   "cell_type": "code",
   "execution_count": 1,
   "metadata": {
    "scrolled": true
   },
   "outputs": [
    {
     "ename": "NameError",
     "evalue": "name 'exchange' is not defined",
     "output_type": "error",
     "traceback": [
      "\u001b[1;31m---------------------------------------------------------------------------\u001b[0m",
      "\u001b[1;31mNameError\u001b[0m                                 Traceback (most recent call last)",
      "\u001b[1;32m<timed exec>\u001b[0m in \u001b[0;36m<module>\u001b[1;34m\u001b[0m\n",
      "\u001b[1;31mNameError\u001b[0m: name 'exchange' is not defined"
     ]
    }
   ],
   "source": [
    "%%time\n",
    "data_list = []\n",
    "for i in range(1,2001):\n",
    "    data = exchange.fetch_ohlcv(symbol = 'BTC/USDT', timeframe = '1hr', limit = 100, since = current_time - limit*60*1000*i)\n",
    "    data_list.append(data)\n",
    "    #df = pd.DataFrame(data)\n",
    "    #print(data)\n",
    "data_list"
   ]
  },
  {
   "cell_type": "code",
   "execution_count": null,
   "metadata": {},
   "outputs": [],
   "source": [
    "len(data_list)"
   ]
  },
  {
   "cell_type": "code",
   "execution_count": 243,
   "metadata": {},
   "outputs": [],
   "source": [
    "concatenated = []\n",
    "for l in data_list:\n",
    "    concatenated.extend(l)"
   ]
  },
  {
   "cell_type": "code",
   "execution_count": 244,
   "metadata": {},
   "outputs": [],
   "source": [
    "#concatenated"
   ]
  },
  {
   "cell_type": "code",
   "execution_count": 245,
   "metadata": {},
   "outputs": [],
   "source": [
    "df = pd.DataFrame(concatenated)\n",
    "#df"
   ]
  },
  {
   "cell_type": "code",
   "execution_count": 246,
   "metadata": {},
   "outputs": [],
   "source": [
    "df.columns = ['TimeStamp', 'Open', 'High', 'Low', 'Close', 'Volume'] \n",
    "#df"
   ]
  },
  {
   "cell_type": "code",
   "execution_count": 247,
   "metadata": {},
   "outputs": [
    {
     "data": {
      "text/html": [
       "<div>\n",
       "<style scoped>\n",
       "    .dataframe tbody tr th:only-of-type {\n",
       "        vertical-align: middle;\n",
       "    }\n",
       "\n",
       "    .dataframe tbody tr th {\n",
       "        vertical-align: top;\n",
       "    }\n",
       "\n",
       "    .dataframe thead th {\n",
       "        text-align: right;\n",
       "    }\n",
       "</style>\n",
       "<table border=\"1\" class=\"dataframe\">\n",
       "  <thead>\n",
       "    <tr style=\"text-align: right;\">\n",
       "      <th></th>\n",
       "      <th>TimeStamp</th>\n",
       "      <th>Open</th>\n",
       "      <th>High</th>\n",
       "      <th>Low</th>\n",
       "      <th>Close</th>\n",
       "      <th>Volume</th>\n",
       "    </tr>\n",
       "  </thead>\n",
       "  <tbody>\n",
       "    <tr>\n",
       "      <th>199381</th>\n",
       "      <td>1605720180000</td>\n",
       "      <td>17844.72</td>\n",
       "      <td>17878.78</td>\n",
       "      <td>17843.08</td>\n",
       "      <td>17864.41</td>\n",
       "      <td>128.141795</td>\n",
       "    </tr>\n",
       "    <tr>\n",
       "      <th>199382</th>\n",
       "      <td>1605720240000</td>\n",
       "      <td>17863.82</td>\n",
       "      <td>17864.32</td>\n",
       "      <td>17844.14</td>\n",
       "      <td>17844.73</td>\n",
       "      <td>66.757429</td>\n",
       "    </tr>\n",
       "    <tr>\n",
       "      <th>199383</th>\n",
       "      <td>1605720300000</td>\n",
       "      <td>17844.73</td>\n",
       "      <td>17849.41</td>\n",
       "      <td>17826.35</td>\n",
       "      <td>17828.35</td>\n",
       "      <td>53.699989</td>\n",
       "    </tr>\n",
       "    <tr>\n",
       "      <th>199384</th>\n",
       "      <td>1605720360000</td>\n",
       "      <td>17828.36</td>\n",
       "      <td>17829.99</td>\n",
       "      <td>17801.54</td>\n",
       "      <td>17803.66</td>\n",
       "      <td>112.517483</td>\n",
       "    </tr>\n",
       "    <tr>\n",
       "      <th>199385</th>\n",
       "      <td>1605720420000</td>\n",
       "      <td>17803.66</td>\n",
       "      <td>17806.29</td>\n",
       "      <td>17783.68</td>\n",
       "      <td>17799.98</td>\n",
       "      <td>45.482920</td>\n",
       "    </tr>\n",
       "    <tr>\n",
       "      <th>...</th>\n",
       "      <td>...</td>\n",
       "      <td>...</td>\n",
       "      <td>...</td>\n",
       "      <td>...</td>\n",
       "      <td>...</td>\n",
       "      <td>...</td>\n",
       "    </tr>\n",
       "    <tr>\n",
       "      <th>95</th>\n",
       "      <td>1617719880000</td>\n",
       "      <td>57798.97</td>\n",
       "      <td>57831.81</td>\n",
       "      <td>57716.14</td>\n",
       "      <td>57758.10</td>\n",
       "      <td>94.209696</td>\n",
       "    </tr>\n",
       "    <tr>\n",
       "      <th>96</th>\n",
       "      <td>1617719940000</td>\n",
       "      <td>57758.09</td>\n",
       "      <td>57825.10</td>\n",
       "      <td>57745.28</td>\n",
       "      <td>57818.77</td>\n",
       "      <td>63.622250</td>\n",
       "    </tr>\n",
       "    <tr>\n",
       "      <th>97</th>\n",
       "      <td>1617720000000</td>\n",
       "      <td>57818.77</td>\n",
       "      <td>57860.83</td>\n",
       "      <td>57760.66</td>\n",
       "      <td>57783.63</td>\n",
       "      <td>96.278530</td>\n",
       "    </tr>\n",
       "    <tr>\n",
       "      <th>98</th>\n",
       "      <td>1617720060000</td>\n",
       "      <td>57783.62</td>\n",
       "      <td>57828.57</td>\n",
       "      <td>57760.00</td>\n",
       "      <td>57808.29</td>\n",
       "      <td>60.350468</td>\n",
       "    </tr>\n",
       "    <tr>\n",
       "      <th>99</th>\n",
       "      <td>1617720120000</td>\n",
       "      <td>57808.29</td>\n",
       "      <td>57808.30</td>\n",
       "      <td>57709.09</td>\n",
       "      <td>57777.17</td>\n",
       "      <td>94.035123</td>\n",
       "    </tr>\n",
       "  </tbody>\n",
       "</table>\n",
       "<p>199481 rows × 6 columns</p>\n",
       "</div>"
      ],
      "text/plain": [
       "            TimeStamp      Open      High       Low     Close      Volume\n",
       "199381  1605720180000  17844.72  17878.78  17843.08  17864.41  128.141795\n",
       "199382  1605720240000  17863.82  17864.32  17844.14  17844.73   66.757429\n",
       "199383  1605720300000  17844.73  17849.41  17826.35  17828.35   53.699989\n",
       "199384  1605720360000  17828.36  17829.99  17801.54  17803.66  112.517483\n",
       "199385  1605720420000  17803.66  17806.29  17783.68  17799.98   45.482920\n",
       "...               ...       ...       ...       ...       ...         ...\n",
       "95      1617719880000  57798.97  57831.81  57716.14  57758.10   94.209696\n",
       "96      1617719940000  57758.09  57825.10  57745.28  57818.77   63.622250\n",
       "97      1617720000000  57818.77  57860.83  57760.66  57783.63   96.278530\n",
       "98      1617720060000  57783.62  57828.57  57760.00  57808.29   60.350468\n",
       "99      1617720120000  57808.29  57808.30  57709.09  57777.17   94.035123\n",
       "\n",
       "[199481 rows x 6 columns]"
      ]
     },
     "execution_count": 247,
     "metadata": {},
     "output_type": "execute_result"
    }
   ],
   "source": [
    "df = df.sort_values(by=['TimeStamp'], ascending=True)\n",
    "df"
   ]
  },
  {
   "cell_type": "code",
   "execution_count": 248,
   "metadata": {},
   "outputs": [
    {
     "data": {
      "text/plain": [
       "TimeStamp      int64\n",
       "Open         float64\n",
       "High         float64\n",
       "Low          float64\n",
       "Close        float64\n",
       "Volume       float64\n",
       "dtype: object"
      ]
     },
     "execution_count": 248,
     "metadata": {},
     "output_type": "execute_result"
    }
   ],
   "source": [
    "df.dtypes"
   ]
  },
  {
   "cell_type": "code",
   "execution_count": 249,
   "metadata": {},
   "outputs": [],
   "source": [
    "df['TimeStamp'] = pd.to_datetime(df['TimeStamp'], unit = 'ms') + pd.Timedelta(hours = 8)"
   ]
  },
  {
   "cell_type": "code",
   "execution_count": 250,
   "metadata": {},
   "outputs": [],
   "source": [
    "df = df.set_index('TimeStamp', drop = 'True')"
   ]
  },
  {
   "cell_type": "code",
   "execution_count": 256,
   "metadata": {},
   "outputs": [
    {
     "name": "stdout",
     "output_type": "stream",
     "text": [
      "False\n"
     ]
    },
    {
     "data": {
      "text/html": [
       "<div>\n",
       "<style scoped>\n",
       "    .dataframe tbody tr th:only-of-type {\n",
       "        vertical-align: middle;\n",
       "    }\n",
       "\n",
       "    .dataframe tbody tr th {\n",
       "        vertical-align: top;\n",
       "    }\n",
       "\n",
       "    .dataframe thead th {\n",
       "        text-align: right;\n",
       "    }\n",
       "</style>\n",
       "<table border=\"1\" class=\"dataframe\">\n",
       "  <thead>\n",
       "    <tr style=\"text-align: right;\">\n",
       "      <th></th>\n",
       "      <th>Open</th>\n",
       "      <th>High</th>\n",
       "      <th>Low</th>\n",
       "      <th>Close</th>\n",
       "      <th>Volume</th>\n",
       "    </tr>\n",
       "    <tr>\n",
       "      <th>TimeStamp</th>\n",
       "      <th></th>\n",
       "      <th></th>\n",
       "      <th></th>\n",
       "      <th></th>\n",
       "      <th></th>\n",
       "    </tr>\n",
       "  </thead>\n",
       "  <tbody>\n",
       "    <tr>\n",
       "      <th>2020-11-19 01:23:00</th>\n",
       "      <td>17844.72</td>\n",
       "      <td>17878.78</td>\n",
       "      <td>17843.08</td>\n",
       "      <td>17864.41</td>\n",
       "      <td>128.141795</td>\n",
       "    </tr>\n",
       "    <tr>\n",
       "      <th>2020-11-19 01:24:00</th>\n",
       "      <td>17863.82</td>\n",
       "      <td>17864.32</td>\n",
       "      <td>17844.14</td>\n",
       "      <td>17844.73</td>\n",
       "      <td>66.757429</td>\n",
       "    </tr>\n",
       "    <tr>\n",
       "      <th>2020-11-19 01:25:00</th>\n",
       "      <td>17844.73</td>\n",
       "      <td>17849.41</td>\n",
       "      <td>17826.35</td>\n",
       "      <td>17828.35</td>\n",
       "      <td>53.699989</td>\n",
       "    </tr>\n",
       "    <tr>\n",
       "      <th>2020-11-19 01:26:00</th>\n",
       "      <td>17828.36</td>\n",
       "      <td>17829.99</td>\n",
       "      <td>17801.54</td>\n",
       "      <td>17803.66</td>\n",
       "      <td>112.517483</td>\n",
       "    </tr>\n",
       "    <tr>\n",
       "      <th>2020-11-19 01:27:00</th>\n",
       "      <td>17803.66</td>\n",
       "      <td>17806.29</td>\n",
       "      <td>17783.68</td>\n",
       "      <td>17799.98</td>\n",
       "      <td>45.482920</td>\n",
       "    </tr>\n",
       "    <tr>\n",
       "      <th>...</th>\n",
       "      <td>...</td>\n",
       "      <td>...</td>\n",
       "      <td>...</td>\n",
       "      <td>...</td>\n",
       "      <td>...</td>\n",
       "    </tr>\n",
       "    <tr>\n",
       "      <th>2021-04-06 22:38:00</th>\n",
       "      <td>57798.97</td>\n",
       "      <td>57831.81</td>\n",
       "      <td>57716.14</td>\n",
       "      <td>57758.10</td>\n",
       "      <td>94.209696</td>\n",
       "    </tr>\n",
       "    <tr>\n",
       "      <th>2021-04-06 22:39:00</th>\n",
       "      <td>57758.09</td>\n",
       "      <td>57825.10</td>\n",
       "      <td>57745.28</td>\n",
       "      <td>57818.77</td>\n",
       "      <td>63.622250</td>\n",
       "    </tr>\n",
       "    <tr>\n",
       "      <th>2021-04-06 22:40:00</th>\n",
       "      <td>57818.77</td>\n",
       "      <td>57860.83</td>\n",
       "      <td>57760.66</td>\n",
       "      <td>57783.63</td>\n",
       "      <td>96.278530</td>\n",
       "    </tr>\n",
       "    <tr>\n",
       "      <th>2021-04-06 22:41:00</th>\n",
       "      <td>57783.62</td>\n",
       "      <td>57828.57</td>\n",
       "      <td>57760.00</td>\n",
       "      <td>57808.29</td>\n",
       "      <td>60.350468</td>\n",
       "    </tr>\n",
       "    <tr>\n",
       "      <th>2021-04-06 22:42:00</th>\n",
       "      <td>57808.29</td>\n",
       "      <td>57808.30</td>\n",
       "      <td>57709.09</td>\n",
       "      <td>57777.17</td>\n",
       "      <td>94.035123</td>\n",
       "    </tr>\n",
       "  </tbody>\n",
       "</table>\n",
       "<p>199481 rows × 5 columns</p>\n",
       "</div>"
      ],
      "text/plain": [
       "                         Open      High       Low     Close      Volume\n",
       "TimeStamp                                                              \n",
       "2020-11-19 01:23:00  17844.72  17878.78  17843.08  17864.41  128.141795\n",
       "2020-11-19 01:24:00  17863.82  17864.32  17844.14  17844.73   66.757429\n",
       "2020-11-19 01:25:00  17844.73  17849.41  17826.35  17828.35   53.699989\n",
       "2020-11-19 01:26:00  17828.36  17829.99  17801.54  17803.66  112.517483\n",
       "2020-11-19 01:27:00  17803.66  17806.29  17783.68  17799.98   45.482920\n",
       "...                       ...       ...       ...       ...         ...\n",
       "2021-04-06 22:38:00  57798.97  57831.81  57716.14  57758.10   94.209696\n",
       "2021-04-06 22:39:00  57758.09  57825.10  57745.28  57818.77   63.622250\n",
       "2021-04-06 22:40:00  57818.77  57860.83  57760.66  57783.63   96.278530\n",
       "2021-04-06 22:41:00  57783.62  57828.57  57760.00  57808.29   60.350468\n",
       "2021-04-06 22:42:00  57808.29  57808.30  57709.09  57777.17   94.035123\n",
       "\n",
       "[199481 rows x 5 columns]"
      ]
     },
     "execution_count": 256,
     "metadata": {},
     "output_type": "execute_result"
    }
   ],
   "source": [
    "pd.set_option('display.max_rows', 500)\n",
    "print(df.isnull().values.any())\n",
    "df"
   ]
  },
  {
   "cell_type": "code",
   "execution_count": 253,
   "metadata": {},
   "outputs": [],
   "source": [
    "df.to_csv('Binance_BTC_1m.csv')"
   ]
  }
 ],
 "metadata": {
  "kernelspec": {
   "display_name": "Python 3",
   "language": "python",
   "name": "python3"
  },
  "language_info": {
   "codemirror_mode": {
    "name": "ipython",
    "version": 3
   },
   "file_extension": ".py",
   "mimetype": "text/x-python",
   "name": "python",
   "nbconvert_exporter": "python",
   "pygments_lexer": "ipython3",
   "version": "3.8.8"
  }
 },
 "nbformat": 4,
 "nbformat_minor": 4
}
