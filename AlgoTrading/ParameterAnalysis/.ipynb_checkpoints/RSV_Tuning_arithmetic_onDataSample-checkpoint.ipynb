{
 "cells": [
  {
   "cell_type": "code",
   "execution_count": 1,
   "id": "fluid-workplace",
   "metadata": {},
   "outputs": [],
   "source": [
    "%load_ext lab_black\n",
    "%config Completer.use_jedi = False\n",
    "import pandas as pd\n",
    "from Grid_Tuning_arithmetic_RSV import grid_trading, speedy_grid_trading\n",
    "from tqdm import tqdm\n",
    "import time"
   ]
  },
  {
   "cell_type": "code",
   "execution_count": 2,
   "id": "listed-pharmaceutical",
   "metadata": {
    "scrolled": true
   },
   "outputs": [],
   "source": [
    "# %%time\n",
    "\n",
    "# FILENAME = \"Binance_BTC_1m.csv\"\n",
    "# data = pd.read_csv(FILENAME)\n",
    "# optimization_arithmetic=[]\n",
    "# for interval_for_bounds in tqdm(range(5,20)):\n",
    "#     for sd in range(2,5):\n",
    "#         records_df, final_profit = speedy_grid_trading(\n",
    "#             data, INTERVAL_FOR_BOUNDS=interval_for_bounds * 24 * 60, SD_PARAMETER=sd,\n",
    "#         )\n",
    "#         optimization_arithmetic.append([final_profit, \"\", interval_for_bounds, sd])"
   ]
  },
  {
   "cell_type": "code",
   "execution_count": 3,
   "id": "disabled-mambo",
   "metadata": {},
   "outputs": [
    {
     "name": "stderr",
     "output_type": "stream",
     "text": [
      "  0%|                                                                                           | 0/10 [00:00<?, ?it/s]"
     ]
    },
    {
     "name": "stdout",
     "output_type": "stream",
     "text": [
      "Mon May 10 14:47:08 2021\n",
      "Mon May 10 14:47:32 2021\n",
      "Mon May 10 14:47:59 2021\n",
      "Mon May 10 14:48:21 2021\n",
      "Mon May 10 14:48:46 2021\n",
      "Mon May 10 14:49:16 2021\n",
      "Mon May 10 14:49:39 2021\n",
      "Mon May 10 14:49:59 2021\n"
     ]
    },
    {
     "name": "stderr",
     "output_type": "stream",
     "text": [
      " 10%|████████▏                                                                         | 1/10 [03:38<32:48, 218.77s/it]"
     ]
    },
    {
     "name": "stdout",
     "output_type": "stream",
     "text": [
      "Mon May 10 14:50:20 2021\n",
      "Mon May 10 14:50:41 2021\n",
      "Mon May 10 14:51:03 2021\n",
      "Mon May 10 14:51:24 2021\n",
      "Mon May 10 14:51:52 2021\n",
      "Mon May 10 14:52:11 2021\n",
      "Mon May 10 14:52:30 2021\n",
      "Mon May 10 14:52:49 2021\n",
      "Mon May 10 14:53:08 2021\n"
     ]
    },
    {
     "name": "stderr",
     "output_type": "stream",
     "text": [
      " 20%|████████████████▍                                                                 | 2/10 [06:46<26:44, 200.51s/it]"
     ]
    },
    {
     "name": "stdout",
     "output_type": "stream",
     "text": [
      "Mon May 10 14:53:28 2021\n",
      "Mon May 10 14:53:50 2021\n",
      "Mon May 10 14:54:10 2021\n",
      "Mon May 10 14:54:30 2021\n",
      "Mon May 10 14:55:06 2021\n",
      "Mon May 10 14:55:34 2021\n",
      "Mon May 10 14:55:58 2021\n",
      "Mon May 10 14:56:18 2021\n",
      "Mon May 10 14:56:41 2021\n"
     ]
    },
    {
     "name": "stderr",
     "output_type": "stream",
     "text": [
      " 30%|████████████████████████▌                                                         | 3/10 [10:20<24:05, 206.49s/it]"
     ]
    },
    {
     "name": "stdout",
     "output_type": "stream",
     "text": [
      "Mon May 10 14:57:02 2021\n",
      "Mon May 10 14:57:28 2021\n",
      "Mon May 10 14:57:50 2021\n",
      "Mon May 10 14:58:10 2021\n",
      "Mon May 10 14:58:31 2021\n",
      "Mon May 10 14:58:54 2021\n",
      "Mon May 10 14:59:14 2021\n",
      "Mon May 10 14:59:39 2021\n",
      "Mon May 10 14:59:58 2021\n"
     ]
    },
    {
     "name": "stderr",
     "output_type": "stream",
     "text": [
      " 40%|████████████████████████████████▊                                                 | 4/10 [13:35<20:13, 202.31s/it]"
     ]
    },
    {
     "name": "stdout",
     "output_type": "stream",
     "text": [
      "Mon May 10 15:00:17 2021\n",
      "Mon May 10 15:00:38 2021\n",
      "Mon May 10 15:01:06 2021\n",
      "Mon May 10 15:01:34 2021\n",
      "Mon May 10 15:01:54 2021\n",
      "Mon May 10 15:02:17 2021\n",
      "Mon May 10 15:02:36 2021\n",
      "Mon May 10 15:02:56 2021\n",
      "Mon May 10 15:03:15 2021\n"
     ]
    },
    {
     "name": "stderr",
     "output_type": "stream",
     "text": [
      " 50%|█████████████████████████████████████████                                         | 5/10 [16:53<16:43, 200.69s/it]"
     ]
    },
    {
     "name": "stdout",
     "output_type": "stream",
     "text": [
      "Mon May 10 15:03:35 2021\n",
      "Mon May 10 15:04:00 2021\n",
      "Mon May 10 15:04:23 2021\n",
      "Mon May 10 15:04:50 2021\n",
      "Mon May 10 15:05:10 2021\n",
      "Mon May 10 15:05:29 2021\n",
      "Mon May 10 15:05:49 2021\n",
      "Mon May 10 15:06:09 2021\n",
      "Mon May 10 15:06:29 2021\n"
     ]
    },
    {
     "name": "stderr",
     "output_type": "stream",
     "text": [
      " 60%|█████████████████████████████████████████████████▏                                | 6/10 [20:07<13:13, 198.43s/it]"
     ]
    },
    {
     "name": "stdout",
     "output_type": "stream",
     "text": [
      "Mon May 10 15:06:49 2021\n",
      "Mon May 10 15:07:09 2021\n",
      "Mon May 10 15:07:29 2021\n",
      "Mon May 10 15:07:51 2021\n",
      "Mon May 10 15:08:15 2021\n",
      "Mon May 10 15:08:34 2021\n",
      "Mon May 10 15:08:53 2021\n",
      "Mon May 10 15:09:12 2021\n",
      "Mon May 10 15:09:32 2021\n"
     ]
    },
    {
     "name": "stderr",
     "output_type": "stream",
     "text": [
      " 70%|█████████████████████████████████████████████████████████▍                        | 7/10 [23:09<09:38, 192.97s/it]"
     ]
    },
    {
     "name": "stdout",
     "output_type": "stream",
     "text": [
      "Mon May 10 15:09:51 2021\n",
      "Mon May 10 15:10:11 2021\n",
      "Mon May 10 15:10:32 2021\n",
      "Mon May 10 15:10:51 2021\n",
      "Mon May 10 15:11:11 2021\n",
      "Mon May 10 15:11:31 2021\n",
      "Mon May 10 15:11:52 2021\n",
      "Mon May 10 15:12:11 2021\n",
      "Mon May 10 15:12:29 2021\n"
     ]
    },
    {
     "name": "stderr",
     "output_type": "stream",
     "text": [
      " 80%|█████████████████████████████████████████████████████████████████▌                | 8/10 [26:07<06:16, 188.14s/it]"
     ]
    },
    {
     "name": "stdout",
     "output_type": "stream",
     "text": [
      "Mon May 10 15:12:49 2021\n",
      "Mon May 10 15:13:09 2021\n",
      "Mon May 10 15:13:30 2021\n",
      "Mon May 10 15:13:52 2021\n",
      "Mon May 10 15:14:15 2021\n",
      "Mon May 10 15:14:35 2021\n",
      "Mon May 10 15:14:54 2021\n",
      "Mon May 10 15:15:13 2021\n",
      "Mon May 10 15:15:31 2021\n"
     ]
    },
    {
     "name": "stderr",
     "output_type": "stream",
     "text": [
      " 90%|█████████████████████████████████████████████████████████████████████████▊        | 9/10 [29:09<03:06, 186.36s/it]"
     ]
    },
    {
     "name": "stdout",
     "output_type": "stream",
     "text": [
      "Mon May 10 15:15:51 2021\n",
      "Mon May 10 15:16:11 2021\n",
      "Mon May 10 15:16:31 2021\n",
      "Mon May 10 15:16:51 2021\n",
      "Mon May 10 15:17:13 2021\n",
      "Mon May 10 15:17:33 2021\n",
      "Mon May 10 15:17:55 2021\n",
      "Mon May 10 15:18:14 2021\n",
      "Mon May 10 15:18:33 2021\n"
     ]
    },
    {
     "name": "stderr",
     "output_type": "stream",
     "text": [
      "100%|█████████████████████████████████████████████████████████████████████████████████| 10/10 [32:10<00:00, 193.05s/it]"
     ]
    },
    {
     "name": "stdout",
     "output_type": "stream",
     "text": [
      "Mon May 10 15:18:52 2021\n",
      "Wall time: 32min 10s\n"
     ]
    },
    {
     "name": "stderr",
     "output_type": "stream",
     "text": [
      "\n"
     ]
    }
   ],
   "source": [
    "%%time\n",
    "FILENAME = \"Binance_BTC_1m.csv\"\n",
    "data = pd.read_csv(FILENAME)\n",
    "optimization_RSV=[]\n",
    "for interval_for_rsv in tqdm(range(10, 60,5)):\n",
    "    for interval_for_bounds in range(5, 20,5):\n",
    "        for sd_parameter in range(2,5):\n",
    "            records_df, final_profit = grid_trading(\n",
    "                data, INTERVALS_FOR_RSV=interval_for_rsv, INTERVAL_FOR_BOUNDS=interval_for_bounds * 24 * 60, SD_PARAMETER=sd_parameter,\n",
    "            )\n",
    "            optimization_RSV.append([final_profit, interval_for_rsv, interval_for_bounds, sd_parameter])\n",
    "            print(time.ctime())"
   ]
  },
  {
   "cell_type": "code",
   "execution_count": 4,
   "id": "beginning-contractor",
   "metadata": {},
   "outputs": [],
   "source": [
    "optimization_df = pd.DataFrame(\n",
    "    optimization_RSV,\n",
    "    columns=[\"FinalProfit\", \"IntervalForRSV\", \"IntervalForBounds\", \"SDParameter\",],\n",
    ")"
   ]
  },
  {
   "cell_type": "code",
   "execution_count": 11,
   "id": "bulgarian-partition",
   "metadata": {},
   "outputs": [
    {
     "data": {
      "text/html": [
       "<div>\n",
       "<style scoped>\n",
       "    .dataframe tbody tr th:only-of-type {\n",
       "        vertical-align: middle;\n",
       "    }\n",
       "\n",
       "    .dataframe tbody tr th {\n",
       "        vertical-align: top;\n",
       "    }\n",
       "\n",
       "    .dataframe thead th {\n",
       "        text-align: right;\n",
       "    }\n",
       "</style>\n",
       "<table border=\"1\" class=\"dataframe\">\n",
       "  <thead>\n",
       "    <tr style=\"text-align: right;\">\n",
       "      <th></th>\n",
       "      <th>FinalProfit</th>\n",
       "      <th>IntervalForRSV</th>\n",
       "      <th>IntervalForBounds</th>\n",
       "      <th>SDParameter</th>\n",
       "    </tr>\n",
       "  </thead>\n",
       "  <tbody>\n",
       "    <tr>\n",
       "      <th>0</th>\n",
       "      <td>140262</td>\n",
       "      <td>10</td>\n",
       "      <td>5</td>\n",
       "      <td>2</td>\n",
       "    </tr>\n",
       "    <tr>\n",
       "      <th>1</th>\n",
       "      <td>160026</td>\n",
       "      <td>10</td>\n",
       "      <td>5</td>\n",
       "      <td>3</td>\n",
       "    </tr>\n",
       "    <tr>\n",
       "      <th>2</th>\n",
       "      <td>108913</td>\n",
       "      <td>10</td>\n",
       "      <td>5</td>\n",
       "      <td>4</td>\n",
       "    </tr>\n",
       "    <tr>\n",
       "      <th>3</th>\n",
       "      <td>99218</td>\n",
       "      <td>10</td>\n",
       "      <td>10</td>\n",
       "      <td>2</td>\n",
       "    </tr>\n",
       "    <tr>\n",
       "      <th>4</th>\n",
       "      <td>107324</td>\n",
       "      <td>10</td>\n",
       "      <td>10</td>\n",
       "      <td>3</td>\n",
       "    </tr>\n",
       "    <tr>\n",
       "      <th>...</th>\n",
       "      <td>...</td>\n",
       "      <td>...</td>\n",
       "      <td>...</td>\n",
       "      <td>...</td>\n",
       "    </tr>\n",
       "    <tr>\n",
       "      <th>85</th>\n",
       "      <td>134801</td>\n",
       "      <td>55</td>\n",
       "      <td>10</td>\n",
       "      <td>3</td>\n",
       "    </tr>\n",
       "    <tr>\n",
       "      <th>86</th>\n",
       "      <td>150081</td>\n",
       "      <td>55</td>\n",
       "      <td>10</td>\n",
       "      <td>4</td>\n",
       "    </tr>\n",
       "    <tr>\n",
       "      <th>87</th>\n",
       "      <td>185979</td>\n",
       "      <td>55</td>\n",
       "      <td>15</td>\n",
       "      <td>2</td>\n",
       "    </tr>\n",
       "    <tr>\n",
       "      <th>88</th>\n",
       "      <td>128647</td>\n",
       "      <td>55</td>\n",
       "      <td>15</td>\n",
       "      <td>3</td>\n",
       "    </tr>\n",
       "    <tr>\n",
       "      <th>89</th>\n",
       "      <td>128514</td>\n",
       "      <td>55</td>\n",
       "      <td>15</td>\n",
       "      <td>4</td>\n",
       "    </tr>\n",
       "  </tbody>\n",
       "</table>\n",
       "<p>90 rows × 4 columns</p>\n",
       "</div>"
      ],
      "text/plain": [
       "    FinalProfit  IntervalForRSV  IntervalForBounds  SDParameter\n",
       "0        140262              10                  5            2\n",
       "1        160026              10                  5            3\n",
       "2        108913              10                  5            4\n",
       "3         99218              10                 10            2\n",
       "4        107324              10                 10            3\n",
       "..          ...             ...                ...          ...\n",
       "85       134801              55                 10            3\n",
       "86       150081              55                 10            4\n",
       "87       185979              55                 15            2\n",
       "88       128647              55                 15            3\n",
       "89       128514              55                 15            4\n",
       "\n",
       "[90 rows x 4 columns]"
      ]
     },
     "execution_count": 11,
     "metadata": {},
     "output_type": "execute_result"
    }
   ],
   "source": [
    "# optimization_df.to_excel(\"Training_ArithmeticSequence_RSV.xlsx\")\n",
    "# optimization_df = pd.read_excel(\"Training.xlsx\")\n",
    "optimization_df"
   ]
  },
  {
   "cell_type": "code",
   "execution_count": 6,
   "id": "ordinary-responsibility",
   "metadata": {},
   "outputs": [],
   "source": [
    "df = optimization_df[\n",
    "    optimization_df[\"FinalProfit\"] == optimization_df[\"FinalProfit\"].max()\n",
    "]\n",
    "SDParameter = df[\"SDParameter\"].unique()\n",
    "IntervalForBounds = df[\"IntervalForBounds\"].unique()\n",
    "IntervalForRSV = df[\"IntervalForRSV\"].unique()\n",
    "FinalProfit = df[\"FinalProfit\"].unique()"
   ]
  },
  {
   "cell_type": "code",
   "execution_count": 7,
   "id": "better-weather",
   "metadata": {},
   "outputs": [
    {
     "data": {
      "text/plain": [
       "array([2], dtype=int64)"
      ]
     },
     "execution_count": 7,
     "metadata": {},
     "output_type": "execute_result"
    }
   ],
   "source": [
    "SDParameter"
   ]
  },
  {
   "cell_type": "code",
   "execution_count": 8,
   "id": "roman-potato",
   "metadata": {},
   "outputs": [
    {
     "data": {
      "text/plain": [
       "array([15], dtype=int64)"
      ]
     },
     "execution_count": 8,
     "metadata": {},
     "output_type": "execute_result"
    }
   ],
   "source": [
    "IntervalForBounds"
   ]
  },
  {
   "cell_type": "code",
   "execution_count": 9,
   "id": "suburban-awareness",
   "metadata": {},
   "outputs": [
    {
     "data": {
      "text/plain": [
       "array([40], dtype=int64)"
      ]
     },
     "execution_count": 9,
     "metadata": {},
     "output_type": "execute_result"
    }
   ],
   "source": [
    "IntervalForRSV"
   ]
  },
  {
   "cell_type": "code",
   "execution_count": 10,
   "id": "recognized-mouth",
   "metadata": {},
   "outputs": [
    {
     "data": {
      "text/plain": [
       "array([199755], dtype=int64)"
      ]
     },
     "execution_count": 10,
     "metadata": {},
     "output_type": "execute_result"
    }
   ],
   "source": [
    "FinalProfit"
   ]
  },
  {
   "cell_type": "code",
   "execution_count": 13,
   "id": "productive-crowd",
   "metadata": {},
   "outputs": [
    {
     "data": {
      "text/html": [
       "<div>\n",
       "<style scoped>\n",
       "    .dataframe tbody tr th:only-of-type {\n",
       "        vertical-align: middle;\n",
       "    }\n",
       "\n",
       "    .dataframe tbody tr th {\n",
       "        vertical-align: top;\n",
       "    }\n",
       "\n",
       "    .dataframe thead th {\n",
       "        text-align: right;\n",
       "    }\n",
       "</style>\n",
       "<table border=\"1\" class=\"dataframe\">\n",
       "  <thead>\n",
       "    <tr style=\"text-align: right;\">\n",
       "      <th></th>\n",
       "      <th>Action</th>\n",
       "      <th>Price</th>\n",
       "      <th>n</th>\n",
       "      <th>Cash</th>\n",
       "      <th>Profit</th>\n",
       "      <th>LowerBound</th>\n",
       "      <th>UpperBound</th>\n",
       "      <th>LowerGrid</th>\n",
       "      <th>UpperGrid</th>\n",
       "      <th>Hour</th>\n",
       "    </tr>\n",
       "  </thead>\n",
       "  <tbody>\n",
       "    <tr>\n",
       "      <th>0</th>\n",
       "      <td>Buying</td>\n",
       "      <td>18609</td>\n",
       "      <td>5.0</td>\n",
       "      <td>6956</td>\n",
       "      <td>-93044</td>\n",
       "      <td>17355.048754</td>\n",
       "      <td>18619.876065</td>\n",
       "      <td>252.965462</td>\n",
       "      <td>0.000000</td>\n",
       "      <td>2020-11-21 12:06:00</td>\n",
       "    </tr>\n",
       "    <tr>\n",
       "      <th>1</th>\n",
       "      <td>Selling</td>\n",
       "      <td>18610</td>\n",
       "      <td>0.0</td>\n",
       "      <td>100006</td>\n",
       "      <td>6</td>\n",
       "      <td>17342.665823</td>\n",
       "      <td>18754.146420</td>\n",
       "      <td>282.296119</td>\n",
       "      <td>0.000000</td>\n",
       "      <td>2020-11-21 15:39:00</td>\n",
       "    </tr>\n",
       "    <tr>\n",
       "      <th>2</th>\n",
       "      <td>Buying</td>\n",
       "      <td>18762</td>\n",
       "      <td>5.0</td>\n",
       "      <td>6196</td>\n",
       "      <td>-93804</td>\n",
       "      <td>17343.242812</td>\n",
       "      <td>18764.901660</td>\n",
       "      <td>284.331770</td>\n",
       "      <td>0.000000</td>\n",
       "      <td>2020-11-21 15:56:00</td>\n",
       "    </tr>\n",
       "    <tr>\n",
       "      <th>3</th>\n",
       "      <td>Selling</td>\n",
       "      <td>18821</td>\n",
       "      <td>0.0</td>\n",
       "      <td>100301</td>\n",
       "      <td>301</td>\n",
       "      <td>18078.106870</td>\n",
       "      <td>18840.448915</td>\n",
       "      <td>113.845926</td>\n",
       "      <td>38.622483</td>\n",
       "      <td>2020-11-24 17:38:00</td>\n",
       "    </tr>\n",
       "    <tr>\n",
       "      <th>4</th>\n",
       "      <td>Buying</td>\n",
       "      <td>18814</td>\n",
       "      <td>5.0</td>\n",
       "      <td>6233</td>\n",
       "      <td>-93767</td>\n",
       "      <td>18069.700480</td>\n",
       "      <td>18869.466937</td>\n",
       "      <td>159.953291</td>\n",
       "      <td>0.000000</td>\n",
       "      <td>2020-11-24 18:27:00</td>\n",
       "    </tr>\n",
       "    <tr>\n",
       "      <th>...</th>\n",
       "      <td>...</td>\n",
       "      <td>...</td>\n",
       "      <td>...</td>\n",
       "      <td>...</td>\n",
       "      <td>...</td>\n",
       "      <td>...</td>\n",
       "      <td>...</td>\n",
       "      <td>...</td>\n",
       "      <td>...</td>\n",
       "      <td>...</td>\n",
       "    </tr>\n",
       "    <tr>\n",
       "      <th>12954</th>\n",
       "      <td>Selling</td>\n",
       "      <td>62182</td>\n",
       "      <td>0.0</td>\n",
       "      <td>297917</td>\n",
       "      <td>197917</td>\n",
       "      <td>45123.550101</td>\n",
       "      <td>63915.900455</td>\n",
       "      <td>3195.791281</td>\n",
       "      <td>562.678790</td>\n",
       "      <td>2021-04-13 17:29:00</td>\n",
       "    </tr>\n",
       "    <tr>\n",
       "      <th>12955</th>\n",
       "      <td>Buying</td>\n",
       "      <td>62674</td>\n",
       "      <td>4.0</td>\n",
       "      <td>47220</td>\n",
       "      <td>-52780</td>\n",
       "      <td>45123.256819</td>\n",
       "      <td>63916.762014</td>\n",
       "      <td>3758.701039</td>\n",
       "      <td>0.000000</td>\n",
       "      <td>2021-04-13 17:30:00</td>\n",
       "    </tr>\n",
       "    <tr>\n",
       "      <th>12956</th>\n",
       "      <td>Selling</td>\n",
       "      <td>62745</td>\n",
       "      <td>0.0</td>\n",
       "      <td>298201</td>\n",
       "      <td>198201</td>\n",
       "      <td>44943.105679</td>\n",
       "      <td>64584.831695</td>\n",
       "      <td>3928.345203</td>\n",
       "      <td>0.000000</td>\n",
       "      <td>2021-04-14 00:48:00</td>\n",
       "    </tr>\n",
       "    <tr>\n",
       "      <th>12957</th>\n",
       "      <td>Buying</td>\n",
       "      <td>63461</td>\n",
       "      <td>4.0</td>\n",
       "      <td>44358</td>\n",
       "      <td>-55642</td>\n",
       "      <td>44942.791746</td>\n",
       "      <td>64585.818964</td>\n",
       "      <td>3187.342562</td>\n",
       "      <td>741.262881</td>\n",
       "      <td>2021-04-14 00:49:00</td>\n",
       "    </tr>\n",
       "    <tr>\n",
       "      <th>12958</th>\n",
       "      <td>Selling</td>\n",
       "      <td>63849</td>\n",
       "      <td>0.0</td>\n",
       "      <td>299755</td>\n",
       "      <td>199755</td>\n",
       "      <td>44856.332018</td>\n",
       "      <td>64851.211214</td>\n",
       "      <td>3677.109407</td>\n",
       "      <td>321.866432</td>\n",
       "      <td>2021-04-14 13:52:00</td>\n",
       "    </tr>\n",
       "  </tbody>\n",
       "</table>\n",
       "<p>12959 rows × 10 columns</p>\n",
       "</div>"
      ],
      "text/plain": [
       "        Action  Price    n    Cash  Profit    LowerBound    UpperBound  \\\n",
       "0       Buying  18609  5.0    6956  -93044  17355.048754  18619.876065   \n",
       "1      Selling  18610  0.0  100006       6  17342.665823  18754.146420   \n",
       "2       Buying  18762  5.0    6196  -93804  17343.242812  18764.901660   \n",
       "3      Selling  18821  0.0  100301     301  18078.106870  18840.448915   \n",
       "4       Buying  18814  5.0    6233  -93767  18069.700480  18869.466937   \n",
       "...        ...    ...  ...     ...     ...           ...           ...   \n",
       "12954  Selling  62182  0.0  297917  197917  45123.550101  63915.900455   \n",
       "12955   Buying  62674  4.0   47220  -52780  45123.256819  63916.762014   \n",
       "12956  Selling  62745  0.0  298201  198201  44943.105679  64584.831695   \n",
       "12957   Buying  63461  4.0   44358  -55642  44942.791746  64585.818964   \n",
       "12958  Selling  63849  0.0  299755  199755  44856.332018  64851.211214   \n",
       "\n",
       "         LowerGrid   UpperGrid                Hour  \n",
       "0       252.965462    0.000000 2020-11-21 12:06:00  \n",
       "1       282.296119    0.000000 2020-11-21 15:39:00  \n",
       "2       284.331770    0.000000 2020-11-21 15:56:00  \n",
       "3       113.845926   38.622483 2020-11-24 17:38:00  \n",
       "4       159.953291    0.000000 2020-11-24 18:27:00  \n",
       "...            ...         ...                 ...  \n",
       "12954  3195.791281  562.678790 2021-04-13 17:29:00  \n",
       "12955  3758.701039    0.000000 2021-04-13 17:30:00  \n",
       "12956  3928.345203    0.000000 2021-04-14 00:48:00  \n",
       "12957  3187.342562  741.262881 2021-04-14 00:49:00  \n",
       "12958  3677.109407  321.866432 2021-04-14 13:52:00  \n",
       "\n",
       "[12959 rows x 10 columns]"
      ]
     },
     "execution_count": 13,
     "metadata": {},
     "output_type": "execute_result"
    }
   ],
   "source": [
    "from Grid_Tuning_arithmetic_RSV import grid_trading\n",
    "\n",
    "records_df, final_profit = grid_trading(\n",
    "    data, INTERVALS_FOR_RSV=40, INTERVAL_FOR_BOUNDS=15 * 24 * 60, SD_PARAMETER=2,\n",
    ")\n",
    "records_df[\"Hour\"] = pd.to_datetime(records_df[\"Hour\"])\n",
    "records_df"
   ]
  },
  {
   "cell_type": "code",
   "execution_count": 14,
   "id": "mineral-finance",
   "metadata": {},
   "outputs": [
    {
     "name": "stderr",
     "output_type": "stream",
     "text": [
      "C:\\Users\\bizjun\\Anaconda3\\envs\\AlgoTrading\\lib\\site-packages\\pandas\\core\\indexing.py:1676: SettingWithCopyWarning: \n",
      "A value is trying to be set on a copy of a slice from a DataFrame.\n",
      "Try using .loc[row_indexer,col_indexer] = value instead\n",
      "\n",
      "See the caveats in the documentation: https://pandas.pydata.org/pandas-docs/stable/user_guide/indexing.html#returning-a-view-versus-a-copy\n",
      "  self._setitem_single_column(ilocs[0], value, pi)\n"
     ]
    },
    {
     "data": {
      "text/html": [
       "<div>\n",
       "<style scoped>\n",
       "    .dataframe tbody tr th:only-of-type {\n",
       "        vertical-align: middle;\n",
       "    }\n",
       "\n",
       "    .dataframe tbody tr th {\n",
       "        vertical-align: top;\n",
       "    }\n",
       "\n",
       "    .dataframe thead th {\n",
       "        text-align: right;\n",
       "    }\n",
       "</style>\n",
       "<table border=\"1\" class=\"dataframe\">\n",
       "  <thead>\n",
       "    <tr style=\"text-align: right;\">\n",
       "      <th></th>\n",
       "      <th>Action</th>\n",
       "      <th>Price</th>\n",
       "      <th>n</th>\n",
       "      <th>Cash</th>\n",
       "      <th>Profit</th>\n",
       "      <th>LowerBound</th>\n",
       "      <th>UpperBound</th>\n",
       "      <th>LowerGrid</th>\n",
       "      <th>UpperGrid</th>\n",
       "      <th>Hour</th>\n",
       "      <th>TransactionInterval</th>\n",
       "    </tr>\n",
       "  </thead>\n",
       "  <tbody>\n",
       "    <tr>\n",
       "      <th>1</th>\n",
       "      <td>Selling</td>\n",
       "      <td>18610</td>\n",
       "      <td>0.0</td>\n",
       "      <td>100006</td>\n",
       "      <td>6</td>\n",
       "      <td>17342.665823</td>\n",
       "      <td>18754.146420</td>\n",
       "      <td>282.296119</td>\n",
       "      <td>0.000000</td>\n",
       "      <td>2020-11-21 15:39:00</td>\n",
       "      <td>12780</td>\n",
       "    </tr>\n",
       "    <tr>\n",
       "      <th>2</th>\n",
       "      <td>Buying</td>\n",
       "      <td>18762</td>\n",
       "      <td>5.0</td>\n",
       "      <td>6196</td>\n",
       "      <td>-93804</td>\n",
       "      <td>17343.242812</td>\n",
       "      <td>18764.901660</td>\n",
       "      <td>284.331770</td>\n",
       "      <td>0.000000</td>\n",
       "      <td>2020-11-21 15:56:00</td>\n",
       "      <td>1020</td>\n",
       "    </tr>\n",
       "    <tr>\n",
       "      <th>3</th>\n",
       "      <td>Selling</td>\n",
       "      <td>18821</td>\n",
       "      <td>0.0</td>\n",
       "      <td>100301</td>\n",
       "      <td>301</td>\n",
       "      <td>18078.106870</td>\n",
       "      <td>18840.448915</td>\n",
       "      <td>113.845926</td>\n",
       "      <td>38.622483</td>\n",
       "      <td>2020-11-24 17:38:00</td>\n",
       "      <td>6120</td>\n",
       "    </tr>\n",
       "    <tr>\n",
       "      <th>4</th>\n",
       "      <td>Buying</td>\n",
       "      <td>18814</td>\n",
       "      <td>5.0</td>\n",
       "      <td>6233</td>\n",
       "      <td>-93767</td>\n",
       "      <td>18069.700480</td>\n",
       "      <td>18869.466937</td>\n",
       "      <td>159.953291</td>\n",
       "      <td>0.000000</td>\n",
       "      <td>2020-11-24 18:27:00</td>\n",
       "      <td>2940</td>\n",
       "    </tr>\n",
       "    <tr>\n",
       "      <th>5</th>\n",
       "      <td>Selling</td>\n",
       "      <td>18855</td>\n",
       "      <td>0.0</td>\n",
       "      <td>100508</td>\n",
       "      <td>508</td>\n",
       "      <td>18078.883536</td>\n",
       "      <td>18890.191103</td>\n",
       "      <td>153.012936</td>\n",
       "      <td>9.248577</td>\n",
       "      <td>2020-11-24 19:24:00</td>\n",
       "      <td>3420</td>\n",
       "    </tr>\n",
       "    <tr>\n",
       "      <th>...</th>\n",
       "      <td>...</td>\n",
       "      <td>...</td>\n",
       "      <td>...</td>\n",
       "      <td>...</td>\n",
       "      <td>...</td>\n",
       "      <td>...</td>\n",
       "      <td>...</td>\n",
       "      <td>...</td>\n",
       "      <td>...</td>\n",
       "      <td>...</td>\n",
       "      <td>...</td>\n",
       "    </tr>\n",
       "    <tr>\n",
       "      <th>12954</th>\n",
       "      <td>Selling</td>\n",
       "      <td>62182</td>\n",
       "      <td>0.0</td>\n",
       "      <td>297917</td>\n",
       "      <td>197917</td>\n",
       "      <td>45123.550101</td>\n",
       "      <td>63915.900455</td>\n",
       "      <td>3195.791281</td>\n",
       "      <td>562.678790</td>\n",
       "      <td>2021-04-13 17:29:00</td>\n",
       "      <td>12480</td>\n",
       "    </tr>\n",
       "    <tr>\n",
       "      <th>12955</th>\n",
       "      <td>Buying</td>\n",
       "      <td>62674</td>\n",
       "      <td>4.0</td>\n",
       "      <td>47220</td>\n",
       "      <td>-52780</td>\n",
       "      <td>45123.256819</td>\n",
       "      <td>63916.762014</td>\n",
       "      <td>3758.701039</td>\n",
       "      <td>0.000000</td>\n",
       "      <td>2021-04-13 17:30:00</td>\n",
       "      <td>60</td>\n",
       "    </tr>\n",
       "    <tr>\n",
       "      <th>12956</th>\n",
       "      <td>Selling</td>\n",
       "      <td>62745</td>\n",
       "      <td>0.0</td>\n",
       "      <td>298201</td>\n",
       "      <td>198201</td>\n",
       "      <td>44943.105679</td>\n",
       "      <td>64584.831695</td>\n",
       "      <td>3928.345203</td>\n",
       "      <td>0.000000</td>\n",
       "      <td>2021-04-14 00:48:00</td>\n",
       "      <td>26280</td>\n",
       "    </tr>\n",
       "    <tr>\n",
       "      <th>12957</th>\n",
       "      <td>Buying</td>\n",
       "      <td>63461</td>\n",
       "      <td>4.0</td>\n",
       "      <td>44358</td>\n",
       "      <td>-55642</td>\n",
       "      <td>44942.791746</td>\n",
       "      <td>64585.818964</td>\n",
       "      <td>3187.342562</td>\n",
       "      <td>741.262881</td>\n",
       "      <td>2021-04-14 00:49:00</td>\n",
       "      <td>60</td>\n",
       "    </tr>\n",
       "    <tr>\n",
       "      <th>12958</th>\n",
       "      <td>Selling</td>\n",
       "      <td>63849</td>\n",
       "      <td>0.0</td>\n",
       "      <td>299755</td>\n",
       "      <td>199755</td>\n",
       "      <td>44856.332018</td>\n",
       "      <td>64851.211214</td>\n",
       "      <td>3677.109407</td>\n",
       "      <td>321.866432</td>\n",
       "      <td>2021-04-14 13:52:00</td>\n",
       "      <td>46980</td>\n",
       "    </tr>\n",
       "  </tbody>\n",
       "</table>\n",
       "<p>12958 rows × 11 columns</p>\n",
       "</div>"
      ],
      "text/plain": [
       "        Action  Price    n    Cash  Profit    LowerBound    UpperBound  \\\n",
       "1      Selling  18610  0.0  100006       6  17342.665823  18754.146420   \n",
       "2       Buying  18762  5.0    6196  -93804  17343.242812  18764.901660   \n",
       "3      Selling  18821  0.0  100301     301  18078.106870  18840.448915   \n",
       "4       Buying  18814  5.0    6233  -93767  18069.700480  18869.466937   \n",
       "5      Selling  18855  0.0  100508     508  18078.883536  18890.191103   \n",
       "...        ...    ...  ...     ...     ...           ...           ...   \n",
       "12954  Selling  62182  0.0  297917  197917  45123.550101  63915.900455   \n",
       "12955   Buying  62674  4.0   47220  -52780  45123.256819  63916.762014   \n",
       "12956  Selling  62745  0.0  298201  198201  44943.105679  64584.831695   \n",
       "12957   Buying  63461  4.0   44358  -55642  44942.791746  64585.818964   \n",
       "12958  Selling  63849  0.0  299755  199755  44856.332018  64851.211214   \n",
       "\n",
       "         LowerGrid   UpperGrid                Hour  TransactionInterval  \n",
       "1       282.296119    0.000000 2020-11-21 15:39:00                12780  \n",
       "2       284.331770    0.000000 2020-11-21 15:56:00                 1020  \n",
       "3       113.845926   38.622483 2020-11-24 17:38:00                 6120  \n",
       "4       159.953291    0.000000 2020-11-24 18:27:00                 2940  \n",
       "5       153.012936    9.248577 2020-11-24 19:24:00                 3420  \n",
       "...            ...         ...                 ...                  ...  \n",
       "12954  3195.791281  562.678790 2021-04-13 17:29:00                12480  \n",
       "12955  3758.701039    0.000000 2021-04-13 17:30:00                   60  \n",
       "12956  3928.345203    0.000000 2021-04-14 00:48:00                26280  \n",
       "12957  3187.342562  741.262881 2021-04-14 00:49:00                   60  \n",
       "12958  3677.109407  321.866432 2021-04-14 13:52:00                46980  \n",
       "\n",
       "[12958 rows x 11 columns]"
      ]
     },
     "execution_count": 14,
     "metadata": {},
     "output_type": "execute_result"
    }
   ],
   "source": [
    "import numpy as np\n",
    "\n",
    "# records_df = records_df.sort_values(by=\"Hour\", ascending=True)\n",
    "records_df[\"TransactionInterval\"] = records_df[\"Hour\"].diff()\n",
    "records_df = records_df.dropna()\n",
    "records_df.loc[:, \"TransactionInterval\"] = records_df[\"TransactionInterval\"].apply(\n",
    "    lambda x: x.seconds\n",
    ")\n",
    "records_df"
   ]
  },
  {
   "cell_type": "code",
   "execution_count": 40,
   "id": "radio-alfred",
   "metadata": {},
   "outputs": [],
   "source": [
    "# records_df.to_excel(\"TransactionHistory_ArithmeticSequence.xlsx\")"
   ]
  },
  {
   "cell_type": "code",
   "execution_count": null,
   "id": "senior-economy",
   "metadata": {},
   "outputs": [],
   "source": []
  }
 ],
 "metadata": {
  "kernelspec": {
   "display_name": "Python 3",
   "language": "python",
   "name": "python3"
  },
  "language_info": {
   "codemirror_mode": {
    "name": "ipython",
    "version": 3
   },
   "file_extension": ".py",
   "mimetype": "text/x-python",
   "name": "python",
   "nbconvert_exporter": "python",
   "pygments_lexer": "ipython3",
   "version": "3.8.8"
  }
 },
 "nbformat": 4,
 "nbformat_minor": 5
}
