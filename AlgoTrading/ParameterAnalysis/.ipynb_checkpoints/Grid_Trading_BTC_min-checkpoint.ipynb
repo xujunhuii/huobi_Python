{
 "cells": [
  {
   "cell_type": "code",
   "execution_count": 4,
   "id": "unable-telescope",
   "metadata": {},
   "outputs": [
    {
     "data": {
      "text/html": [
       "<div>\n",
       "<style scoped>\n",
       "    .dataframe tbody tr th:only-of-type {\n",
       "        vertical-align: middle;\n",
       "    }\n",
       "\n",
       "    .dataframe tbody tr th {\n",
       "        vertical-align: top;\n",
       "    }\n",
       "\n",
       "    .dataframe thead th {\n",
       "        text-align: right;\n",
       "    }\n",
       "</style>\n",
       "<table border=\"1\" class=\"dataframe\">\n",
       "  <thead>\n",
       "    <tr style=\"text-align: right;\">\n",
       "      <th></th>\n",
       "      <th>time</th>\n",
       "      <th>close</th>\n",
       "    </tr>\n",
       "  </thead>\n",
       "  <tbody>\n",
       "    <tr>\n",
       "      <th>0</th>\n",
       "      <td>1618771860</td>\n",
       "      <td>55638.03</td>\n",
       "    </tr>\n",
       "    <tr>\n",
       "      <th>1</th>\n",
       "      <td>1618771920</td>\n",
       "      <td>55669.80</td>\n",
       "    </tr>\n",
       "    <tr>\n",
       "      <th>2</th>\n",
       "      <td>1618771980</td>\n",
       "      <td>55676.94</td>\n",
       "    </tr>\n",
       "    <tr>\n",
       "      <th>3</th>\n",
       "      <td>1618772040</td>\n",
       "      <td>55665.87</td>\n",
       "    </tr>\n",
       "    <tr>\n",
       "      <th>4</th>\n",
       "      <td>1618772100</td>\n",
       "      <td>55600.29</td>\n",
       "    </tr>\n",
       "    <tr>\n",
       "      <th>...</th>\n",
       "      <td>...</td>\n",
       "      <td>...</td>\n",
       "    </tr>\n",
       "    <tr>\n",
       "      <th>1996</th>\n",
       "      <td>1618891620</td>\n",
       "      <td>54679.83</td>\n",
       "    </tr>\n",
       "    <tr>\n",
       "      <th>1997</th>\n",
       "      <td>1618891680</td>\n",
       "      <td>54692.01</td>\n",
       "    </tr>\n",
       "    <tr>\n",
       "      <th>1998</th>\n",
       "      <td>1618891740</td>\n",
       "      <td>54774.72</td>\n",
       "    </tr>\n",
       "    <tr>\n",
       "      <th>1999</th>\n",
       "      <td>1618891800</td>\n",
       "      <td>54778.46</td>\n",
       "    </tr>\n",
       "    <tr>\n",
       "      <th>2000</th>\n",
       "      <td>1618891860</td>\n",
       "      <td>54780.03</td>\n",
       "    </tr>\n",
       "  </tbody>\n",
       "</table>\n",
       "<p>2001 rows × 2 columns</p>\n",
       "</div>"
      ],
      "text/plain": [
       "            time     close\n",
       "0     1618771860  55638.03\n",
       "1     1618771920  55669.80\n",
       "2     1618771980  55676.94\n",
       "3     1618772040  55665.87\n",
       "4     1618772100  55600.29\n",
       "...          ...       ...\n",
       "1996  1618891620  54679.83\n",
       "1997  1618891680  54692.01\n",
       "1998  1618891740  54774.72\n",
       "1999  1618891800  54778.46\n",
       "2000  1618891860  54780.03\n",
       "\n",
       "[2001 rows x 2 columns]"
      ]
     },
     "execution_count": 4,
     "metadata": {},
     "output_type": "execute_result"
    }
   ],
   "source": [
    "%load_ext lab_black\n",
    "import pandas as pd\n",
    "import json\n",
    "\n",
    "\n",
    "f = open(\"histominute_BTC.json\",)\n",
    "data = json.load(f)\n",
    "data = pd.DataFrame.from_dict(data[\"Data\"][\"Data\"])\n",
    "data = data[[\"time\", \"close\"]]\n",
    "f.close()\n",
    "data"
   ]
  },
  {
   "cell_type": "code",
   "execution_count": 5,
   "id": "immune-array",
   "metadata": {},
   "outputs": [
    {
     "data": {
      "text/plain": [
       "-55991.28"
      ]
     },
     "execution_count": 5,
     "metadata": {},
     "output_type": "execute_result"
    }
   ],
   "source": [
    "def get_profit(lower_limit, upper_limit):\n",
    "    i = 0\n",
    "    profit = 0\n",
    "    records = []\n",
    "    n = 0\n",
    "    for index, row in data.iterrows():\n",
    "        day = index\n",
    "        price = row[\"close\"]\n",
    "        if i % 2 == 0:\n",
    "            if row[\"RSI\"] <= lower_limit and n == 0:\n",
    "                profit -= price\n",
    "                records.append([\"Buying\", -round(price), round(profit), day])\n",
    "                n += 1\n",
    "                i += 1\n",
    "        else:\n",
    "            if row[\"RSI\"] >= upper_limit and n >= 0 and profit + price >= 1:\n",
    "                profit += price\n",
    "                records.append([\"Selling\", round(price), round(profit), day])\n",
    "                n -= 1\n",
    "                i += 1\n",
    "    return profit\n",
    "\n",
    "\n",
    "def calculation(data, window_length, lower_limit, upper_limit):\n",
    "    delta = data[\"close\"].diff()\n",
    "    up, down = delta.copy(), delta.copy()\n",
    "    up[up <= 1] = 0\n",
    "    down[down >= 2] = 0\n",
    "    roll_up1 = up.ewm(span=window_length).mean()\n",
    "    roll_down1 = down.abs().ewm(span=window_length).mean()\n",
    "    RS1 = roll_up1 / roll_down1\n",
    "    RSI1 = 100.0 - (100.0 / (1.0 + RS1))\n",
    "    data.loc[:, \"RSI\"] = RSI1\n",
    "    data.loc[:, \"TimeStamp\"] = pd.to_datetime(data[\"time\"], unit=\"s\")\n",
    "    data = data.set_index(\"TimeStamp\")\n",
    "    return get_profit(lower_limit, upper_limit)\n",
    "\n",
    "\n",
    "calculation(data, 14, 50, 60)"
   ]
  },
  {
   "cell_type": "code",
   "execution_count": 6,
   "id": "exotic-stanley",
   "metadata": {
    "scrolled": true
   },
   "outputs": [],
   "source": [
    "# %%time\n",
    "# from tqdm import tqdm\n",
    "# optimizations=[]\n",
    "# for window_length in tqdm(range(10, 20)):\n",
    "#     for lower_limit in range(10, 30):\n",
    "#         for upper_limit in range(80, 100):\n",
    "#             profit = calculation(data, window_length, lower_limit,upper_limit)\n",
    "#             optimizations.append([profit, window_length, lower_limit, upper_limit])"
   ]
  },
  {
   "cell_type": "code",
   "execution_count": 7,
   "id": "reflected-trunk",
   "metadata": {},
   "outputs": [],
   "source": [
    "# optimization_df = pd.DataFrame(\n",
    "#     optimizations, columns=[\"Profit\", \"WindowLength\", \"LowerLimit\", \"UpperLimit\"]\n",
    "# )\n",
    "# pd.set_option(\"max_rows\", 30)\n",
    "# optimization_df"
   ]
  },
  {
   "cell_type": "code",
   "execution_count": 8,
   "id": "statutory-jenny",
   "metadata": {},
   "outputs": [],
   "source": [
    "# optimization_df[optimization_df[\"Profit\"] == optimization_df[\"Profit\"].max()]"
   ]
  },
  {
   "cell_type": "code",
   "execution_count": 9,
   "id": "polished-error",
   "metadata": {},
   "outputs": [],
   "source": [
    "window_length = 12\n",
    "lower_limit = 21\n",
    "upper_limit = 92"
   ]
  },
  {
   "cell_type": "code",
   "execution_count": 10,
   "id": "attended-browser",
   "metadata": {},
   "outputs": [
    {
     "name": "stdout",
     "output_type": "stream",
     "text": [
      "Total profit: USD -54,662\n",
      "\n"
     ]
    },
    {
     "data": {
      "text/html": [
       "<div>\n",
       "<style scoped>\n",
       "    .dataframe tbody tr th:only-of-type {\n",
       "        vertical-align: middle;\n",
       "    }\n",
       "\n",
       "    .dataframe tbody tr th {\n",
       "        vertical-align: top;\n",
       "    }\n",
       "\n",
       "    .dataframe thead th {\n",
       "        text-align: right;\n",
       "    }\n",
       "</style>\n",
       "<table border=\"1\" class=\"dataframe\">\n",
       "  <thead>\n",
       "    <tr style=\"text-align: right;\">\n",
       "      <th></th>\n",
       "      <th>Action</th>\n",
       "      <th>Price</th>\n",
       "      <th>Profit</th>\n",
       "      <th>Day</th>\n",
       "    </tr>\n",
       "  </thead>\n",
       "  <tbody>\n",
       "    <tr>\n",
       "      <th>0</th>\n",
       "      <td>Buying</td>\n",
       "      <td>-55434</td>\n",
       "      <td>-55434</td>\n",
       "      <td>20</td>\n",
       "    </tr>\n",
       "    <tr>\n",
       "      <th>1</th>\n",
       "      <td>Selling</td>\n",
       "      <td>57271</td>\n",
       "      <td>1837</td>\n",
       "      <td>463</td>\n",
       "    </tr>\n",
       "    <tr>\n",
       "      <th>2</th>\n",
       "      <td>Buying</td>\n",
       "      <td>-56870</td>\n",
       "      <td>-55033</td>\n",
       "      <td>491</td>\n",
       "    </tr>\n",
       "    <tr>\n",
       "      <th>3</th>\n",
       "      <td>Selling</td>\n",
       "      <td>56560</td>\n",
       "      <td>1527</td>\n",
       "      <td>1611</td>\n",
       "    </tr>\n",
       "    <tr>\n",
       "      <th>4</th>\n",
       "      <td>Buying</td>\n",
       "      <td>-56189</td>\n",
       "      <td>-54662</td>\n",
       "      <td>1634</td>\n",
       "    </tr>\n",
       "  </tbody>\n",
       "</table>\n",
       "</div>"
      ],
      "text/plain": [
       "    Action  Price  Profit   Day\n",
       "0   Buying -55434  -55434    20\n",
       "1  Selling  57271    1837   463\n",
       "2   Buying -56870  -55033   491\n",
       "3  Selling  56560    1527  1611\n",
       "4   Buying -56189  -54662  1634"
      ]
     },
     "execution_count": 10,
     "metadata": {},
     "output_type": "execute_result"
    }
   ],
   "source": [
    "def get_profit(lower_limit, upper_limit):\n",
    "    i = 0\n",
    "    profit = 0\n",
    "    records = []\n",
    "    n = 0\n",
    "    for index, row in data.iterrows():\n",
    "        day = index\n",
    "        price = row[\"close\"]\n",
    "        if i % 2 == 0:\n",
    "            if row[\"RSI\"] <= lower_limit and n == 0:\n",
    "                profit -= price\n",
    "                records.append([\"Buying\", -round(price), round(profit), day])\n",
    "                n += 1\n",
    "                i += 1\n",
    "        else:\n",
    "            if row[\"RSI\"] >= upper_limit and n >= 0 and profit + price >= 1:\n",
    "                profit += price\n",
    "                records.append([\"Selling\", round(price), round(profit), day])\n",
    "                n -= 1\n",
    "                i += 1\n",
    "    return records, profit\n",
    "\n",
    "\n",
    "def calculation(data, window_length, lower_limit, upper_limit):\n",
    "    delta = data[\"close\"].diff()\n",
    "    up, down = delta.copy(), delta.copy()\n",
    "    up[up <= 1] = 0\n",
    "    down[down >= 2] = 0\n",
    "    roll_up1 = up.ewm(span=window_length).mean()\n",
    "    roll_down1 = down.abs().ewm(span=window_length).mean()\n",
    "    RS1 = roll_up1 / roll_down1\n",
    "    RSI1 = 100.0 - (100.0 / (1.0 + RS1))\n",
    "    data.loc[:, \"RSI\"] = RSI1\n",
    "    data.loc[:, \"TimeStamp\"] = pd.to_datetime(data[\"time\"], unit=\"s\")\n",
    "    data = data.set_index(\"TimeStamp\")\n",
    "    records, profit = get_profit(lower_limit, upper_limit)\n",
    "    return records, profit\n",
    "\n",
    "\n",
    "records, profit = calculation(data, window_length, lower_limit, upper_limit)\n",
    "formated_profit = f\"{round(profit):,}\"\n",
    "print(f\"Total profit: USD {formated_profit}\\n\")\n",
    "records_df = pd.DataFrame(records, columns=[\"Action\", \"Price\", \"Profit\", \"Day\"])\n",
    "pd.set_option(\"max_rows\", 30)\n",
    "records_df"
   ]
  },
  {
   "cell_type": "code",
   "execution_count": 11,
   "id": "organic-invention",
   "metadata": {},
   "outputs": [],
   "source": [
    "# optimization_df.to_excel(\"Profit_Optimization_BTC_hr.xlsx\")"
   ]
  },
  {
   "cell_type": "code",
   "execution_count": 12,
   "id": "dedicated-locator",
   "metadata": {},
   "outputs": [],
   "source": [
    "data = data[[\"close\", \"TimeStamp\"]]"
   ]
  },
  {
   "cell_type": "code",
   "execution_count": 13,
   "id": "cooked-mongolia",
   "metadata": {},
   "outputs": [
    {
     "data": {
      "text/plain": [
       "<AxesSubplot:>"
      ]
     },
     "execution_count": 13,
     "metadata": {},
     "output_type": "execute_result"
    },
    {
     "data": {
      "image/png": "[encoded data removed]",
      "text/plain": [
       "<Figure size 2160x720 with 1 Axes>"
      ]
     },
     "metadata": {
      "needs_background": "light"
     },
     "output_type": "display_data"
    }
   ],
   "source": [
    "import matplotlib.pyplot as plt\n",
    "\n",
    "%matplotlib inline\n",
    "fig, ax = plt.subplots(figsize=(30, 10))\n",
    "# plt.ylim(0, 100)\n",
    "data[[\"close\"]].plot(ax=ax)"
   ]
  },
  {
   "cell_type": "code",
   "execution_count": 14,
   "id": "animal-rachel",
   "metadata": {},
   "outputs": [],
   "source": [
    "lowest_price = 25000\n",
    "r = 0.02\n",
    "prices = [lowest_price * (1 + r) ** i for i in range(0, 50)]\n",
    "# prices"
   ]
  },
  {
   "cell_type": "code",
   "execution_count": 15,
   "id": "compound-dating",
   "metadata": {},
   "outputs": [
    {
     "name": "stdout",
     "output_type": "stream",
     "text": [
      "    Action  Price  Profit  Minute\n",
      "0   Buying -55638   44362       0\n",
      "1  Selling  56753  101115     232\n",
      "2   Buying -55489   45626    1188\n",
      "3  Selling  56614  102240    1615\n",
      "4   Buying -55430   46810    1752\n"
     ]
    }
   ],
   "source": [
    "profit = 100000\n",
    "records = []\n",
    "n = 0\n",
    "last_price = 0\n",
    "lower_bound = 30000\n",
    "upper_bound = 80000\n",
    "for index, row in data.iterrows():\n",
    "    day = index\n",
    "    price = row[\"close\"]\n",
    "    if lower_bound <= price <= upper_bound:\n",
    "        if index == 0:\n",
    "            profit -= price\n",
    "            records.append([\"Buying\", -round(price), round(profit), day])\n",
    "            last_price = price\n",
    "            n += 1\n",
    "        elif n > 0 and price >= last_price * (1 + r):\n",
    "            profit += price\n",
    "            records.append([\"Selling\", round(price), round(profit), day])\n",
    "            last_price = price\n",
    "            n -= 1\n",
    "        elif price <= last_price * (1 - r) and profit - price > 0:\n",
    "            profit -= price\n",
    "            records.append([\"Buying\", -round(price), round(profit), day])\n",
    "            last_price = price\n",
    "            n += 1\n",
    "\n",
    "pd.set_option(\"display.max_rows\", None, \"display.max_columns\", None)\n",
    "records_df = pd.DataFrame(records, columns=[\"Action\", \"Price\", \"Profit\", \"Minute\"])\n",
    "print(records_df)"
   ]
  },
  {
   "cell_type": "code",
   "execution_count": 19,
   "id": "illegal-jewel",
   "metadata": {},
   "outputs": [
    {
     "name": "stderr",
     "output_type": "stream",
     "text": [
      "100%|██████████| 59/59 [00:08<00:00,  6.77it/s]"
     ]
    },
    {
     "name": "stdout",
     "output_type": "stream",
     "text": [
      "    Rate    Profit\n",
      "0   0.01  44342.09\n",
      "1   0.02  44406.78\n",
      "2   0.03  44391.23\n",
      "3   0.04  44361.97\n",
      "4   0.05  44361.97\n",
      "5   0.06  44361.97\n",
      "6   0.07  44361.97\n",
      "7   0.08  44361.97\n",
      "8   0.09  44361.97\n",
      "9   0.10  44361.97\n",
      "10  0.11  44361.97\n",
      "11  0.12  44361.97\n",
      "12  0.13  44361.97\n",
      "13  0.14  44361.97\n",
      "14  0.15  44361.97\n",
      "15  0.16  44361.97\n",
      "16  0.17  44361.97\n",
      "17  0.18  44361.97\n",
      "18  0.19  44361.97\n",
      "19  0.20  44361.97\n",
      "20  0.21  44361.97\n",
      "21  0.22  44361.97\n",
      "22  0.23  44361.97\n",
      "23  0.24  44361.97\n",
      "24  0.25  44361.97\n",
      "25  0.26  44361.97\n",
      "26  0.27  44361.97\n",
      "27  0.28  44361.97\n",
      "28  0.29  44361.97\n",
      "29  0.30  44361.97\n",
      "30  0.31  44361.97\n",
      "31  0.32  44361.97\n",
      "32  0.33  44361.97\n",
      "33  0.34  44361.97\n",
      "34  0.35  44361.97\n",
      "35  0.36  44361.97\n",
      "36  0.37  44361.97\n",
      "37  0.38  44361.97\n",
      "38  0.39  44361.97\n",
      "39  0.40  44361.97\n",
      "40  0.41  44361.97\n",
      "41  0.42  44361.97\n",
      "42  0.43  44361.97\n",
      "43  0.44  44361.97\n",
      "44  0.45  44361.97\n",
      "45  0.46  44361.97\n",
      "46  0.47  44361.97\n",
      "47  0.48  44361.97\n",
      "48  0.49  44361.97\n",
      "49  0.50  44361.97\n",
      "50  0.51  44361.97\n",
      "51  0.52  44361.97\n",
      "52  0.53  44361.97\n",
      "53  0.54  44361.97\n",
      "54  0.55  44361.97\n",
      "55  0.56  44361.97\n",
      "56  0.57  44361.97\n",
      "57  0.58  44361.97\n",
      "58  0.59  44361.97\n",
      "Wall time: 8.75 s\n"
     ]
    },
    {
     "name": "stderr",
     "output_type": "stream",
     "text": [
      "\n"
     ]
    },
    {
     "data": {
      "text/html": [
       "<div>\n",
       "<style scoped>\n",
       "    .dataframe tbody tr th:only-of-type {\n",
       "        vertical-align: middle;\n",
       "    }\n",
       "\n",
       "    .dataframe tbody tr th {\n",
       "        vertical-align: top;\n",
       "    }\n",
       "\n",
       "    .dataframe thead th {\n",
       "        text-align: right;\n",
       "    }\n",
       "</style>\n",
       "<table border=\"1\" class=\"dataframe\">\n",
       "  <thead>\n",
       "    <tr style=\"text-align: right;\">\n",
       "      <th></th>\n",
       "      <th>Rate</th>\n",
       "      <th>Profit</th>\n",
       "    </tr>\n",
       "  </thead>\n",
       "  <tbody>\n",
       "    <tr>\n",
       "      <th>1</th>\n",
       "      <td>0.02</td>\n",
       "      <td>44406.78</td>\n",
       "    </tr>\n",
       "  </tbody>\n",
       "</table>\n",
       "</div>"
      ],
      "text/plain": [
       "   Rate    Profit\n",
       "1  0.02  44406.78"
      ]
     },
     "execution_count": 19,
     "metadata": {},
     "output_type": "execute_result"
    }
   ],
   "source": [
    "%%time\n",
    "def get_profit(r):\n",
    "    profit = 100000\n",
    "    records = []\n",
    "    n = 0\n",
    "    last_price = 0\n",
    "    lower_bound = 30000\n",
    "    upper_bound = 80000\n",
    "    for index, row in data.iterrows():\n",
    "        day = index\n",
    "        price = row[\"close\"]\n",
    "        if lower_bound <= price <= upper_bound:\n",
    "            if n == 0 and profit-price>0:\n",
    "                profit -= price\n",
    "                records.append([\"Buying\", -round(price), round(profit), day])\n",
    "                last_price = price\n",
    "                n += 1\n",
    "            elif n > 0 and price >= last_price * (1 + r):\n",
    "                profit += price\n",
    "                records.append([\"Selling\", round(price), round(profit), day])\n",
    "                last_price = price\n",
    "                n -= 1\n",
    "            elif price <= last_price * (1 - r) and profit - price > 0:\n",
    "                profit -= price\n",
    "                records.append([\"Buying\", -round(price), round(profit), day])\n",
    "                last_price = price\n",
    "                n += 1\n",
    "    return profit\n",
    "\n",
    "\n",
    "import numpy as np\n",
    "from tqdm import tqdm\n",
    "optimization_r=[]\n",
    "for r in tqdm(np.arange(0.01,0.6,0.01)):\n",
    "    profit=get_profit(r)\n",
    "    optimization_r.append([r, profit])\n",
    "optimization_r_df = pd.DataFrame(optimization_r, columns=[\"Rate\", \"Profit\"])\n",
    "pd.set_option(\"display.max_rows\", None, \"display.max_columns\", None)\n",
    "print(optimization_r_df)\n",
    "optimization_r_df[optimization_r_df[\"Profit\"] == optimization_r_df[\"Profit\"].max()]"
   ]
  },
  {
   "cell_type": "code",
   "execution_count": null,
   "id": "spread-medicare",
   "metadata": {},
   "outputs": [],
   "source": []
  }
 ],
 "metadata": {
  "kernelspec": {
   "display_name": "Python 3",
   "language": "python",
   "name": "python3"
  },
  "language_info": {
   "codemirror_mode": {
    "name": "ipython",
    "version": 3
   },
   "file_extension": ".py",
   "mimetype": "text/x-python",
   "name": "python",
   "nbconvert_exporter": "python",
   "pygments_lexer": "ipython3",
   "version": "3.8.8"
  }
 },
 "nbformat": 4,
 "nbformat_minor": 5
}
