{
 "cells": [
  {
   "cell_type": "code",
   "execution_count": 6,
   "id": "nuclear-gnome",
   "metadata": {},
   "outputs": [
    {
     "name": "stdout",
     "output_type": "stream",
     "text": [
      "The lab_black extension is already loaded. To reload it, use:\n",
      "  %reload_ext lab_black\n"
     ]
    }
   ],
   "source": [
    "%load_ext lab_black\n",
    "%config Completer.use_jedi = False\n",
    "import pandas as pd\n",
    "from Grid_Tuning_arithmetic_RSV import grid_trading, speedy_grid_trading\n",
    "from tqdm import tqdm\n",
    "import time"
   ]
  },
  {
   "cell_type": "code",
   "execution_count": 7,
   "id": "norman-irrigation",
   "metadata": {
    "scrolled": true
   },
   "outputs": [],
   "source": [
    "# %%time\n",
    "\n",
    "# FILENAME = \"Binance_BTC_1m.csv\"\n",
    "# data = pd.read_csv(FILENAME)\n",
    "# optimization_arithmetic=[]\n",
    "# for interval_for_bounds in tqdm(range(5,20)):\n",
    "#     for sd in range(2,5):\n",
    "#         records_df, final_profit = speedy_grid_trading(\n",
    "#             data, INTERVAL_FOR_BOUNDS=interval_for_bounds * 24 * 60, SD_PARAMETER=sd,\n",
    "#         )\n",
    "#         optimization_arithmetic.append([final_profit, \"\", interval_for_bounds, sd])"
   ]
  },
  {
   "cell_type": "code",
   "execution_count": 8,
   "id": "complex-exploration",
   "metadata": {},
   "outputs": [
    {
     "name": "stderr",
     "output_type": "stream",
     "text": [
      "  0%|                                                                                           | 0/10 [00:00<?, ?it/s]"
     ]
    },
    {
     "name": "stdout",
     "output_type": "stream",
     "text": [
      "Mon May 10 15:25:57 2021\n",
      "Mon May 10 15:26:02 2021\n",
      "Mon May 10 15:26:06 2021\n",
      "Mon May 10 15:26:10 2021\n",
      "Mon May 10 15:26:14 2021\n",
      "Mon May 10 15:26:18 2021\n",
      "Mon May 10 15:26:21 2021\n",
      "Mon May 10 15:26:25 2021\n"
     ]
    },
    {
     "name": "stderr",
     "output_type": "stream",
     "text": [
      " 10%|████████▎                                                                          | 1/10 [00:35<05:15, 35.07s/it]"
     ]
    },
    {
     "name": "stdout",
     "output_type": "stream",
     "text": [
      "Mon May 10 15:26:28 2021\n",
      "Mon May 10 15:26:33 2021\n",
      "Mon May 10 15:26:38 2021\n",
      "Mon May 10 15:26:42 2021\n",
      "Mon May 10 15:26:47 2021\n",
      "Mon May 10 15:26:51 2021\n",
      "Mon May 10 15:26:55 2021\n",
      "Mon May 10 15:26:59 2021\n",
      "Mon May 10 15:27:03 2021\n"
     ]
    },
    {
     "name": "stderr",
     "output_type": "stream",
     "text": [
      " 20%|████████████████▌                                                                  | 2/10 [01:13<04:54, 36.79s/it]"
     ]
    },
    {
     "name": "stdout",
     "output_type": "stream",
     "text": [
      "Mon May 10 15:27:06 2021\n",
      "Mon May 10 15:27:11 2021\n",
      "Mon May 10 15:27:16 2021\n",
      "Mon May 10 15:27:21 2021\n",
      "Mon May 10 15:27:25 2021\n",
      "Mon May 10 15:27:29 2021\n",
      "Mon May 10 15:27:33 2021\n",
      "Mon May 10 15:27:37 2021\n",
      "Mon May 10 15:27:40 2021\n"
     ]
    },
    {
     "name": "stderr",
     "output_type": "stream",
     "text": [
      " 30%|████████████████████████▉                                                          | 3/10 [01:49<04:17, 36.85s/it]"
     ]
    },
    {
     "name": "stdout",
     "output_type": "stream",
     "text": [
      "Mon May 10 15:27:43 2021\n",
      "Mon May 10 15:27:49 2021\n",
      "Mon May 10 15:27:53 2021\n",
      "Mon May 10 15:27:57 2021\n",
      "Mon May 10 15:28:02 2021\n",
      "Mon May 10 15:28:06 2021\n",
      "Mon May 10 15:28:10 2021\n",
      "Mon May 10 15:28:13 2021\n",
      "Mon May 10 15:28:17 2021\n"
     ]
    },
    {
     "name": "stderr",
     "output_type": "stream",
     "text": [
      " 40%|█████████████████████████████████▏                                                 | 4/10 [02:27<03:41, 36.99s/it]"
     ]
    },
    {
     "name": "stdout",
     "output_type": "stream",
     "text": [
      "Mon May 10 15:28:20 2021\n",
      "Mon May 10 15:28:26 2021\n",
      "Mon May 10 15:28:32 2021\n",
      "Mon May 10 15:28:38 2021\n",
      "Mon May 10 15:28:43 2021\n",
      "Mon May 10 15:28:48 2021\n",
      "Mon May 10 15:28:54 2021\n",
      "Mon May 10 15:28:58 2021\n",
      "Mon May 10 15:29:01 2021\n"
     ]
    },
    {
     "name": "stderr",
     "output_type": "stream",
     "text": [
      " 50%|█████████████████████████████████████████▌                                         | 5/10 [03:11<03:17, 39.48s/it]"
     ]
    },
    {
     "name": "stdout",
     "output_type": "stream",
     "text": [
      "Mon May 10 15:29:04 2021\n",
      "Mon May 10 15:29:09 2021\n",
      "Mon May 10 15:29:14 2021\n",
      "Mon May 10 15:29:18 2021\n",
      "Mon May 10 15:29:22 2021\n",
      "Mon May 10 15:29:27 2021\n",
      "Mon May 10 15:29:31 2021\n",
      "Mon May 10 15:29:35 2021\n",
      "Mon May 10 15:29:38 2021\n"
     ]
    },
    {
     "name": "stderr",
     "output_type": "stream",
     "text": [
      " 60%|█████████████████████████████████████████████████▊                                 | 6/10 [03:49<02:36, 39.24s/it]"
     ]
    },
    {
     "name": "stdout",
     "output_type": "stream",
     "text": [
      "Mon May 10 15:29:43 2021\n",
      "Mon May 10 15:29:49 2021\n",
      "Mon May 10 15:29:56 2021\n",
      "Mon May 10 15:30:01 2021\n",
      "Mon May 10 15:30:06 2021\n",
      "Mon May 10 15:30:10 2021\n",
      "Mon May 10 15:30:15 2021\n",
      "Mon May 10 15:30:19 2021\n",
      "Mon May 10 15:30:22 2021\n"
     ]
    },
    {
     "name": "stderr",
     "output_type": "stream",
     "text": [
      " 70%|██████████████████████████████████████████████████████████                         | 7/10 [04:33<02:01, 40.57s/it]"
     ]
    },
    {
     "name": "stdout",
     "output_type": "stream",
     "text": [
      "Mon May 10 15:30:26 2021\n",
      "Mon May 10 15:30:32 2021\n",
      "Mon May 10 15:30:36 2021\n",
      "Mon May 10 15:30:42 2021\n",
      "Mon May 10 15:30:47 2021\n",
      "Mon May 10 15:30:51 2021\n",
      "Mon May 10 15:30:56 2021\n",
      "Mon May 10 15:31:00 2021\n",
      "Mon May 10 15:31:04 2021\n"
     ]
    },
    {
     "name": "stderr",
     "output_type": "stream",
     "text": [
      " 80%|██████████████████████████████████████████████████████████████████▍                | 8/10 [05:13<01:21, 40.65s/it]"
     ]
    },
    {
     "name": "stdout",
     "output_type": "stream",
     "text": [
      "Mon May 10 15:31:07 2021\n",
      "Mon May 10 15:31:12 2021\n",
      "Mon May 10 15:31:18 2021\n",
      "Mon May 10 15:31:22 2021\n",
      "Mon May 10 15:31:26 2021\n",
      "Mon May 10 15:31:30 2021\n",
      "Mon May 10 15:31:34 2021\n",
      "Mon May 10 15:31:38 2021\n",
      "Mon May 10 15:31:42 2021\n"
     ]
    },
    {
     "name": "stderr",
     "output_type": "stream",
     "text": [
      " 90%|██████████████████████████████████████████████████████████████████████████▋        | 9/10 [05:53<00:40, 40.26s/it]"
     ]
    },
    {
     "name": "stdout",
     "output_type": "stream",
     "text": [
      "Mon May 10 15:31:47 2021\n",
      "Mon May 10 15:31:53 2021\n",
      "Mon May 10 15:31:58 2021\n",
      "Mon May 10 15:32:05 2021\n",
      "Mon May 10 15:32:10 2021\n",
      "Mon May 10 15:32:15 2021\n",
      "Mon May 10 15:32:19 2021\n",
      "Mon May 10 15:32:23 2021\n",
      "Mon May 10 15:32:27 2021\n"
     ]
    },
    {
     "name": "stderr",
     "output_type": "stream",
     "text": [
      "100%|██████████████████████████████████████████████████████████████████████████████████| 10/10 [06:38<00:00, 39.86s/it]"
     ]
    },
    {
     "name": "stdout",
     "output_type": "stream",
     "text": [
      "Mon May 10 15:32:32 2021\n",
      "Wall time: 6min 38s\n"
     ]
    },
    {
     "name": "stderr",
     "output_type": "stream",
     "text": [
      "\n"
     ]
    }
   ],
   "source": [
    "%%time\n",
    "FILENAME = \"Mild_Fluctuate_data.csv\"\n",
    "data = pd.read_csv(FILENAME)\n",
    "optimization_RSV=[]\n",
    "for interval_for_rsv in tqdm(range(10, 60,5)):\n",
    "    for interval_for_bounds in range(5, 20,5):\n",
    "        for sd_parameter in range(2,5):\n",
    "            records_df, final_profit = grid_trading(\n",
    "                data, INTERVALS_FOR_RSV=interval_for_rsv, INTERVAL_FOR_BOUNDS=interval_for_bounds * 24 * 60, SD_PARAMETER=sd_parameter,\n",
    "            )\n",
    "            optimization_RSV.append([final_profit, interval_for_rsv, interval_for_bounds, sd_parameter])\n",
    "            print(time.ctime())"
   ]
  },
  {
   "cell_type": "code",
   "execution_count": 4,
   "id": "awful-frequency",
   "metadata": {},
   "outputs": [],
   "source": [
    "optimization_df = pd.DataFrame(\n",
    "    optimization_RSV,\n",
    "    columns=[\"FinalProfit\", \"IntervalForRSV\", \"IntervalForBounds\", \"SDParameter\",],\n",
    ")"
   ]
  },
  {
   "cell_type": "code",
   "execution_count": 11,
   "id": "drawn-cinema",
   "metadata": {},
   "outputs": [
    {
     "data": {
      "text/html": [
       "<div>\n",
       "<style scoped>\n",
       "    .dataframe tbody tr th:only-of-type {\n",
       "        vertical-align: middle;\n",
       "    }\n",
       "\n",
       "    .dataframe tbody tr th {\n",
       "        vertical-align: top;\n",
       "    }\n",
       "\n",
       "    .dataframe thead th {\n",
       "        text-align: right;\n",
       "    }\n",
       "</style>\n",
       "<table border=\"1\" class=\"dataframe\">\n",
       "  <thead>\n",
       "    <tr style=\"text-align: right;\">\n",
       "      <th></th>\n",
       "      <th>FinalProfit</th>\n",
       "      <th>IntervalForRSV</th>\n",
       "      <th>IntervalForBounds</th>\n",
       "      <th>SDParameter</th>\n",
       "    </tr>\n",
       "  </thead>\n",
       "  <tbody>\n",
       "    <tr>\n",
       "      <th>0</th>\n",
       "      <td>140262</td>\n",
       "      <td>10</td>\n",
       "      <td>5</td>\n",
       "      <td>2</td>\n",
       "    </tr>\n",
       "    <tr>\n",
       "      <th>1</th>\n",
       "      <td>160026</td>\n",
       "      <td>10</td>\n",
       "      <td>5</td>\n",
       "      <td>3</td>\n",
       "    </tr>\n",
       "    <tr>\n",
       "      <th>2</th>\n",
       "      <td>108913</td>\n",
       "      <td>10</td>\n",
       "      <td>5</td>\n",
       "      <td>4</td>\n",
       "    </tr>\n",
       "    <tr>\n",
       "      <th>3</th>\n",
       "      <td>99218</td>\n",
       "      <td>10</td>\n",
       "      <td>10</td>\n",
       "      <td>2</td>\n",
       "    </tr>\n",
       "    <tr>\n",
       "      <th>4</th>\n",
       "      <td>107324</td>\n",
       "      <td>10</td>\n",
       "      <td>10</td>\n",
       "      <td>3</td>\n",
       "    </tr>\n",
       "    <tr>\n",
       "      <th>...</th>\n",
       "      <td>...</td>\n",
       "      <td>...</td>\n",
       "      <td>...</td>\n",
       "      <td>...</td>\n",
       "    </tr>\n",
       "    <tr>\n",
       "      <th>85</th>\n",
       "      <td>134801</td>\n",
       "      <td>55</td>\n",
       "      <td>10</td>\n",
       "      <td>3</td>\n",
       "    </tr>\n",
       "    <tr>\n",
       "      <th>86</th>\n",
       "      <td>150081</td>\n",
       "      <td>55</td>\n",
       "      <td>10</td>\n",
       "      <td>4</td>\n",
       "    </tr>\n",
       "    <tr>\n",
       "      <th>87</th>\n",
       "      <td>185979</td>\n",
       "      <td>55</td>\n",
       "      <td>15</td>\n",
       "      <td>2</td>\n",
       "    </tr>\n",
       "    <tr>\n",
       "      <th>88</th>\n",
       "      <td>128647</td>\n",
       "      <td>55</td>\n",
       "      <td>15</td>\n",
       "      <td>3</td>\n",
       "    </tr>\n",
       "    <tr>\n",
       "      <th>89</th>\n",
       "      <td>128514</td>\n",
       "      <td>55</td>\n",
       "      <td>15</td>\n",
       "      <td>4</td>\n",
       "    </tr>\n",
       "  </tbody>\n",
       "</table>\n",
       "<p>90 rows × 4 columns</p>\n",
       "</div>"
      ],
      "text/plain": [
       "    FinalProfit  IntervalForRSV  IntervalForBounds  SDParameter\n",
       "0        140262              10                  5            2\n",
       "1        160026              10                  5            3\n",
       "2        108913              10                  5            4\n",
       "3         99218              10                 10            2\n",
       "4        107324              10                 10            3\n",
       "..          ...             ...                ...          ...\n",
       "85       134801              55                 10            3\n",
       "86       150081              55                 10            4\n",
       "87       185979              55                 15            2\n",
       "88       128647              55                 15            3\n",
       "89       128514              55                 15            4\n",
       "\n",
       "[90 rows x 4 columns]"
      ]
     },
     "execution_count": 11,
     "metadata": {},
     "output_type": "execute_result"
    }
   ],
   "source": [
    "# optimization_df.to_excel(\"Training_ArithmeticSequence_RSV.xlsx\")\n",
    "# optimization_df = pd.read_excel(\"Training.xlsx\")\n",
    "optimization_df"
   ]
  },
  {
   "cell_type": "code",
   "execution_count": 6,
   "id": "annoying-preference",
   "metadata": {},
   "outputs": [],
   "source": [
    "df = optimization_df[\n",
    "    optimization_df[\"FinalProfit\"] == optimization_df[\"FinalProfit\"].max()\n",
    "]\n",
    "SDParameter = df[\"SDParameter\"].unique()\n",
    "IntervalForBounds = df[\"IntervalForBounds\"].unique()\n",
    "IntervalForRSV = df[\"IntervalForRSV\"].unique()\n",
    "FinalProfit = df[\"FinalProfit\"].unique()"
   ]
  },
  {
   "cell_type": "code",
   "execution_count": 7,
   "id": "representative-prescription",
   "metadata": {},
   "outputs": [
    {
     "data": {
      "text/plain": [
       "array([2], dtype=int64)"
      ]
     },
     "execution_count": 7,
     "metadata": {},
     "output_type": "execute_result"
    }
   ],
   "source": [
    "SDParameter"
   ]
  },
  {
   "cell_type": "code",
   "execution_count": 8,
   "id": "essential-balance",
   "metadata": {},
   "outputs": [
    {
     "data": {
      "text/plain": [
       "array([15], dtype=int64)"
      ]
     },
     "execution_count": 8,
     "metadata": {},
     "output_type": "execute_result"
    }
   ],
   "source": [
    "IntervalForBounds"
   ]
  },
  {
   "cell_type": "code",
   "execution_count": 9,
   "id": "driving-invention",
   "metadata": {},
   "outputs": [
    {
     "data": {
      "text/plain": [
       "array([40], dtype=int64)"
      ]
     },
     "execution_count": 9,
     "metadata": {},
     "output_type": "execute_result"
    }
   ],
   "source": [
    "IntervalForRSV"
   ]
  },
  {
   "cell_type": "code",
   "execution_count": 10,
   "id": "blind-senator",
   "metadata": {},
   "outputs": [
    {
     "data": {
      "text/plain": [
       "array([199755], dtype=int64)"
      ]
     },
     "execution_count": 10,
     "metadata": {},
     "output_type": "execute_result"
    }
   ],
   "source": [
    "FinalProfit"
   ]
  },
  {
   "cell_type": "code",
   "execution_count": 4,
   "id": "royal-sweden",
   "metadata": {},
   "outputs": [
    {
     "data": {
      "text/html": [
       "<div>\n",
       "<style scoped>\n",
       "    .dataframe tbody tr th:only-of-type {\n",
       "        vertical-align: middle;\n",
       "    }\n",
       "\n",
       "    .dataframe tbody tr th {\n",
       "        vertical-align: top;\n",
       "    }\n",
       "\n",
       "    .dataframe thead th {\n",
       "        text-align: right;\n",
       "    }\n",
       "</style>\n",
       "<table border=\"1\" class=\"dataframe\">\n",
       "  <thead>\n",
       "    <tr style=\"text-align: right;\">\n",
       "      <th></th>\n",
       "      <th>Action</th>\n",
       "      <th>Price</th>\n",
       "      <th>n</th>\n",
       "      <th>Cash</th>\n",
       "      <th>Profit</th>\n",
       "      <th>LowerBound</th>\n",
       "      <th>UpperBound</th>\n",
       "      <th>LowerGrid</th>\n",
       "      <th>UpperGrid</th>\n",
       "      <th>Hour</th>\n",
       "    </tr>\n",
       "  </thead>\n",
       "  <tbody>\n",
       "    <tr>\n",
       "      <th>0</th>\n",
       "      <td>Buying</td>\n",
       "      <td>58008</td>\n",
       "      <td>1.0</td>\n",
       "      <td>41992</td>\n",
       "      <td>-58008</td>\n",
       "      <td>51953.683087</td>\n",
       "      <td>60367.202735</td>\n",
       "      <td>367.584004</td>\n",
       "      <td>1315.119925</td>\n",
       "      <td>2021-03-29 23:59:00</td>\n",
       "    </tr>\n",
       "    <tr>\n",
       "      <th>1</th>\n",
       "      <td>Selling</td>\n",
       "      <td>58836</td>\n",
       "      <td>0.0</td>\n",
       "      <td>100828</td>\n",
       "      <td>828</td>\n",
       "      <td>52107.512470</td>\n",
       "      <td>60029.738970</td>\n",
       "      <td>792.222650</td>\n",
       "      <td>792.222650</td>\n",
       "      <td>2021-03-30 18:02:00</td>\n",
       "    </tr>\n",
       "    <tr>\n",
       "      <th>2</th>\n",
       "      <td>Buying</td>\n",
       "      <td>59434</td>\n",
       "      <td>1.0</td>\n",
       "      <td>41394</td>\n",
       "      <td>-58606</td>\n",
       "      <td>52107.462408</td>\n",
       "      <td>60030.118259</td>\n",
       "      <td>792.265585</td>\n",
       "      <td>792.265585</td>\n",
       "      <td>2021-03-30 18:03:00</td>\n",
       "    </tr>\n",
       "    <tr>\n",
       "      <th>3</th>\n",
       "      <td>Selling</td>\n",
       "      <td>60335</td>\n",
       "      <td>0.0</td>\n",
       "      <td>101729</td>\n",
       "      <td>1729</td>\n",
       "      <td>54321.763843</td>\n",
       "      <td>60744.828936</td>\n",
       "      <td>642.306509</td>\n",
       "      <td>642.306509</td>\n",
       "      <td>2021-10-04 12:20:00</td>\n",
       "    </tr>\n",
       "    <tr>\n",
       "      <th>4</th>\n",
       "      <td>Buying</td>\n",
       "      <td>60722</td>\n",
       "      <td>1.0</td>\n",
       "      <td>41007</td>\n",
       "      <td>-58993</td>\n",
       "      <td>54340.393522</td>\n",
       "      <td>60742.395282</td>\n",
       "      <td>458.419917</td>\n",
       "      <td>821.980435</td>\n",
       "      <td>2021-10-04 12:41:00</td>\n",
       "    </tr>\n",
       "    <tr>\n",
       "      <th>5</th>\n",
       "      <td>Selling</td>\n",
       "      <td>62377</td>\n",
       "      <td>0.0</td>\n",
       "      <td>103384</td>\n",
       "      <td>3384</td>\n",
       "      <td>55695.325335</td>\n",
       "      <td>62463.517689</td>\n",
       "      <td>1353.638471</td>\n",
       "      <td>0.000000</td>\n",
       "      <td>2021-04-14 22:14:00</td>\n",
       "    </tr>\n",
       "    <tr>\n",
       "      <th>6</th>\n",
       "      <td>Buying</td>\n",
       "      <td>62561</td>\n",
       "      <td>1.0</td>\n",
       "      <td>40822</td>\n",
       "      <td>-59178</td>\n",
       "      <td>55642.790703</td>\n",
       "      <td>62607.168072</td>\n",
       "      <td>1392.875474</td>\n",
       "      <td>0.000000</td>\n",
       "      <td>2021-04-15 01:59:00</td>\n",
       "    </tr>\n",
       "    <tr>\n",
       "      <th>7</th>\n",
       "      <td>Selling</td>\n",
       "      <td>62632</td>\n",
       "      <td>0.0</td>\n",
       "      <td>103455</td>\n",
       "      <td>3455</td>\n",
       "      <td>55594.792775</td>\n",
       "      <td>62793.838529</td>\n",
       "      <td>1439.809151</td>\n",
       "      <td>0.000000</td>\n",
       "      <td>2021-04-15 08:37:00</td>\n",
       "    </tr>\n",
       "    <tr>\n",
       "      <th>8</th>\n",
       "      <td>Buying</td>\n",
       "      <td>62778</td>\n",
       "      <td>1.0</td>\n",
       "      <td>40677</td>\n",
       "      <td>-59323</td>\n",
       "      <td>55578.380604</td>\n",
       "      <td>62848.868137</td>\n",
       "      <td>1454.097507</td>\n",
       "      <td>0.000000</td>\n",
       "      <td>2021-04-15 10:22:00</td>\n",
       "    </tr>\n",
       "    <tr>\n",
       "      <th>9</th>\n",
       "      <td>Selling</td>\n",
       "      <td>62830</td>\n",
       "      <td>0.0</td>\n",
       "      <td>103507</td>\n",
       "      <td>3507</td>\n",
       "      <td>55556.662502</td>\n",
       "      <td>62928.385632</td>\n",
       "      <td>1474.344626</td>\n",
       "      <td>0.000000</td>\n",
       "      <td>2021-04-15 12:45:00</td>\n",
       "    </tr>\n",
       "  </tbody>\n",
       "</table>\n",
       "</div>"
      ],
      "text/plain": [
       "    Action  Price    n    Cash  Profit    LowerBound    UpperBound  \\\n",
       "0   Buying  58008  1.0   41992  -58008  51953.683087  60367.202735   \n",
       "1  Selling  58836  0.0  100828     828  52107.512470  60029.738970   \n",
       "2   Buying  59434  1.0   41394  -58606  52107.462408  60030.118259   \n",
       "3  Selling  60335  0.0  101729    1729  54321.763843  60744.828936   \n",
       "4   Buying  60722  1.0   41007  -58993  54340.393522  60742.395282   \n",
       "5  Selling  62377  0.0  103384    3384  55695.325335  62463.517689   \n",
       "6   Buying  62561  1.0   40822  -59178  55642.790703  62607.168072   \n",
       "7  Selling  62632  0.0  103455    3455  55594.792775  62793.838529   \n",
       "8   Buying  62778  1.0   40677  -59323  55578.380604  62848.868137   \n",
       "9  Selling  62830  0.0  103507    3507  55556.662502  62928.385632   \n",
       "\n",
       "     LowerGrid    UpperGrid                Hour  \n",
       "0   367.584004  1315.119925 2021-03-29 23:59:00  \n",
       "1   792.222650   792.222650 2021-03-30 18:02:00  \n",
       "2   792.265585   792.265585 2021-03-30 18:03:00  \n",
       "3   642.306509   642.306509 2021-10-04 12:20:00  \n",
       "4   458.419917   821.980435 2021-10-04 12:41:00  \n",
       "5  1353.638471     0.000000 2021-04-14 22:14:00  \n",
       "6  1392.875474     0.000000 2021-04-15 01:59:00  \n",
       "7  1439.809151     0.000000 2021-04-15 08:37:00  \n",
       "8  1454.097507     0.000000 2021-04-15 10:22:00  \n",
       "9  1474.344626     0.000000 2021-04-15 12:45:00  "
      ]
     },
     "execution_count": 4,
     "metadata": {},
     "output_type": "execute_result"
    }
   ],
   "source": [
    "from Grid_Tuning_arithmetic_RSV import grid_trading\n",
    "\n",
    "records_df, final_profit = grid_trading(\n",
    "    data, INTERVALS_FOR_RSV=40, INTERVAL_FOR_BOUNDS=15 * 24 * 60, SD_PARAMETER=2,\n",
    ")\n",
    "records_df[\"Hour\"] = pd.to_datetime(records_df[\"Hour\"])\n",
    "records_df"
   ]
  },
  {
   "cell_type": "code",
   "execution_count": 5,
   "id": "exempt-yugoslavia",
   "metadata": {},
   "outputs": [
    {
     "name": "stderr",
     "output_type": "stream",
     "text": [
      "C:\\Users\\bizjun\\Anaconda3\\envs\\AlgoTrading\\lib\\site-packages\\pandas\\core\\indexing.py:1676: SettingWithCopyWarning: \n",
      "A value is trying to be set on a copy of a slice from a DataFrame.\n",
      "Try using .loc[row_indexer,col_indexer] = value instead\n",
      "\n",
      "See the caveats in the documentation: https://pandas.pydata.org/pandas-docs/stable/user_guide/indexing.html#returning-a-view-versus-a-copy\n",
      "  self._setitem_single_column(ilocs[0], value, pi)\n"
     ]
    },
    {
     "data": {
      "text/html": [
       "<div>\n",
       "<style scoped>\n",
       "    .dataframe tbody tr th:only-of-type {\n",
       "        vertical-align: middle;\n",
       "    }\n",
       "\n",
       "    .dataframe tbody tr th {\n",
       "        vertical-align: top;\n",
       "    }\n",
       "\n",
       "    .dataframe thead th {\n",
       "        text-align: right;\n",
       "    }\n",
       "</style>\n",
       "<table border=\"1\" class=\"dataframe\">\n",
       "  <thead>\n",
       "    <tr style=\"text-align: right;\">\n",
       "      <th></th>\n",
       "      <th>Action</th>\n",
       "      <th>Price</th>\n",
       "      <th>n</th>\n",
       "      <th>Cash</th>\n",
       "      <th>Profit</th>\n",
       "      <th>LowerBound</th>\n",
       "      <th>UpperBound</th>\n",
       "      <th>LowerGrid</th>\n",
       "      <th>UpperGrid</th>\n",
       "      <th>Hour</th>\n",
       "      <th>TransactionInterval</th>\n",
       "    </tr>\n",
       "  </thead>\n",
       "  <tbody>\n",
       "    <tr>\n",
       "      <th>1</th>\n",
       "      <td>Selling</td>\n",
       "      <td>58836</td>\n",
       "      <td>0.0</td>\n",
       "      <td>100828</td>\n",
       "      <td>828</td>\n",
       "      <td>52107.512470</td>\n",
       "      <td>60029.738970</td>\n",
       "      <td>792.222650</td>\n",
       "      <td>792.222650</td>\n",
       "      <td>2021-03-30 18:02:00</td>\n",
       "      <td>64980</td>\n",
       "    </tr>\n",
       "    <tr>\n",
       "      <th>2</th>\n",
       "      <td>Buying</td>\n",
       "      <td>59434</td>\n",
       "      <td>1.0</td>\n",
       "      <td>41394</td>\n",
       "      <td>-58606</td>\n",
       "      <td>52107.462408</td>\n",
       "      <td>60030.118259</td>\n",
       "      <td>792.265585</td>\n",
       "      <td>792.265585</td>\n",
       "      <td>2021-03-30 18:03:00</td>\n",
       "      <td>60</td>\n",
       "    </tr>\n",
       "    <tr>\n",
       "      <th>3</th>\n",
       "      <td>Selling</td>\n",
       "      <td>60335</td>\n",
       "      <td>0.0</td>\n",
       "      <td>101729</td>\n",
       "      <td>1729</td>\n",
       "      <td>54321.763843</td>\n",
       "      <td>60744.828936</td>\n",
       "      <td>642.306509</td>\n",
       "      <td>642.306509</td>\n",
       "      <td>2021-10-04 12:20:00</td>\n",
       "      <td>65820</td>\n",
       "    </tr>\n",
       "    <tr>\n",
       "      <th>4</th>\n",
       "      <td>Buying</td>\n",
       "      <td>60722</td>\n",
       "      <td>1.0</td>\n",
       "      <td>41007</td>\n",
       "      <td>-58993</td>\n",
       "      <td>54340.393522</td>\n",
       "      <td>60742.395282</td>\n",
       "      <td>458.419917</td>\n",
       "      <td>821.980435</td>\n",
       "      <td>2021-10-04 12:41:00</td>\n",
       "      <td>1260</td>\n",
       "    </tr>\n",
       "    <tr>\n",
       "      <th>5</th>\n",
       "      <td>Selling</td>\n",
       "      <td>62377</td>\n",
       "      <td>0.0</td>\n",
       "      <td>103384</td>\n",
       "      <td>3384</td>\n",
       "      <td>55695.325335</td>\n",
       "      <td>62463.517689</td>\n",
       "      <td>1353.638471</td>\n",
       "      <td>0.000000</td>\n",
       "      <td>2021-04-14 22:14:00</td>\n",
       "      <td>34380</td>\n",
       "    </tr>\n",
       "    <tr>\n",
       "      <th>6</th>\n",
       "      <td>Buying</td>\n",
       "      <td>62561</td>\n",
       "      <td>1.0</td>\n",
       "      <td>40822</td>\n",
       "      <td>-59178</td>\n",
       "      <td>55642.790703</td>\n",
       "      <td>62607.168072</td>\n",
       "      <td>1392.875474</td>\n",
       "      <td>0.000000</td>\n",
       "      <td>2021-04-15 01:59:00</td>\n",
       "      <td>13500</td>\n",
       "    </tr>\n",
       "    <tr>\n",
       "      <th>7</th>\n",
       "      <td>Selling</td>\n",
       "      <td>62632</td>\n",
       "      <td>0.0</td>\n",
       "      <td>103455</td>\n",
       "      <td>3455</td>\n",
       "      <td>55594.792775</td>\n",
       "      <td>62793.838529</td>\n",
       "      <td>1439.809151</td>\n",
       "      <td>0.000000</td>\n",
       "      <td>2021-04-15 08:37:00</td>\n",
       "      <td>23880</td>\n",
       "    </tr>\n",
       "    <tr>\n",
       "      <th>8</th>\n",
       "      <td>Buying</td>\n",
       "      <td>62778</td>\n",
       "      <td>1.0</td>\n",
       "      <td>40677</td>\n",
       "      <td>-59323</td>\n",
       "      <td>55578.380604</td>\n",
       "      <td>62848.868137</td>\n",
       "      <td>1454.097507</td>\n",
       "      <td>0.000000</td>\n",
       "      <td>2021-04-15 10:22:00</td>\n",
       "      <td>6300</td>\n",
       "    </tr>\n",
       "    <tr>\n",
       "      <th>9</th>\n",
       "      <td>Selling</td>\n",
       "      <td>62830</td>\n",
       "      <td>0.0</td>\n",
       "      <td>103507</td>\n",
       "      <td>3507</td>\n",
       "      <td>55556.662502</td>\n",
       "      <td>62928.385632</td>\n",
       "      <td>1474.344626</td>\n",
       "      <td>0.000000</td>\n",
       "      <td>2021-04-15 12:45:00</td>\n",
       "      <td>8580</td>\n",
       "    </tr>\n",
       "  </tbody>\n",
       "</table>\n",
       "</div>"
      ],
      "text/plain": [
       "    Action  Price    n    Cash  Profit    LowerBound    UpperBound  \\\n",
       "1  Selling  58836  0.0  100828     828  52107.512470  60029.738970   \n",
       "2   Buying  59434  1.0   41394  -58606  52107.462408  60030.118259   \n",
       "3  Selling  60335  0.0  101729    1729  54321.763843  60744.828936   \n",
       "4   Buying  60722  1.0   41007  -58993  54340.393522  60742.395282   \n",
       "5  Selling  62377  0.0  103384    3384  55695.325335  62463.517689   \n",
       "6   Buying  62561  1.0   40822  -59178  55642.790703  62607.168072   \n",
       "7  Selling  62632  0.0  103455    3455  55594.792775  62793.838529   \n",
       "8   Buying  62778  1.0   40677  -59323  55578.380604  62848.868137   \n",
       "9  Selling  62830  0.0  103507    3507  55556.662502  62928.385632   \n",
       "\n",
       "     LowerGrid   UpperGrid                Hour  TransactionInterval  \n",
       "1   792.222650  792.222650 2021-03-30 18:02:00                64980  \n",
       "2   792.265585  792.265585 2021-03-30 18:03:00                   60  \n",
       "3   642.306509  642.306509 2021-10-04 12:20:00                65820  \n",
       "4   458.419917  821.980435 2021-10-04 12:41:00                 1260  \n",
       "5  1353.638471    0.000000 2021-04-14 22:14:00                34380  \n",
       "6  1392.875474    0.000000 2021-04-15 01:59:00                13500  \n",
       "7  1439.809151    0.000000 2021-04-15 08:37:00                23880  \n",
       "8  1454.097507    0.000000 2021-04-15 10:22:00                 6300  \n",
       "9  1474.344626    0.000000 2021-04-15 12:45:00                 8580  "
      ]
     },
     "execution_count": 5,
     "metadata": {},
     "output_type": "execute_result"
    }
   ],
   "source": [
    "import numpy as np\n",
    "\n",
    "# records_df = records_df.sort_values(by=\"Hour\", ascending=True)\n",
    "records_df[\"TransactionInterval\"] = records_df[\"Hour\"].diff()\n",
    "records_df = records_df.dropna()\n",
    "records_df.loc[:, \"TransactionInterval\"] = records_df[\"TransactionInterval\"].apply(\n",
    "    lambda x: x.seconds\n",
    ")\n",
    "records_df"
   ]
  },
  {
   "cell_type": "code",
   "execution_count": 40,
   "id": "social-professor",
   "metadata": {},
   "outputs": [],
   "source": [
    "# records_df.to_excel(\"TransactionHistory_ArithmeticSequence.xlsx\")"
   ]
  },
  {
   "cell_type": "code",
   "execution_count": null,
   "id": "finnish-fleet",
   "metadata": {},
   "outputs": [],
   "source": []
  }
 ],
 "metadata": {
  "kernelspec": {
   "display_name": "Python 3",
   "language": "python",
   "name": "python3"
  },
  "language_info": {
   "codemirror_mode": {
    "name": "ipython",
    "version": 3
   },
   "file_extension": ".py",
   "mimetype": "text/x-python",
   "name": "python",
   "nbconvert_exporter": "python",
   "pygments_lexer": "ipython3",
   "version": "3.8.8"
  }
 },
 "nbformat": 4,
 "nbformat_minor": 5
}
