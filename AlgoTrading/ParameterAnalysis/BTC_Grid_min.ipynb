{
 "cells": [
  {
   "cell_type": "code",
   "execution_count": 1,
   "id": "improving-velvet",
   "metadata": {},
   "outputs": [],
   "source": [
    "%load_ext lab_black\n",
    "%config Completer.use_jedi = False"
   ]
  },
  {
   "cell_type": "code",
   "execution_count": null,
   "id": "diagnostic-passport",
   "metadata": {
    "scrolled": true
   },
   "outputs": [
    {
     "name": "stderr",
     "output_type": "stream",
     "text": [
      "  2%|▏         | 1/50 [00:14<11:30, 14.10s/it]"
     ]
    },
    {
     "name": "stdout",
     "output_type": "stream",
     "text": [
      "Thu May  6 11:24:14 2021\n"
     ]
    },
    {
     "name": "stderr",
     "output_type": "stream",
     "text": [
      "  4%|▍         | 2/50 [00:33<13:44, 17.18s/it]"
     ]
    },
    {
     "name": "stdout",
     "output_type": "stream",
     "text": [
      "Thu May  6 11:24:33 2021\n"
     ]
    },
    {
     "name": "stderr",
     "output_type": "stream",
     "text": [
      "  6%|▌         | 3/50 [00:49<13:06, 16.74s/it]"
     ]
    },
    {
     "name": "stdout",
     "output_type": "stream",
     "text": [
      "Thu May  6 11:24:49 2021\n"
     ]
    },
    {
     "name": "stderr",
     "output_type": "stream",
     "text": [
      "  8%|▊         | 4/50 [01:05<12:37, 16.46s/it]"
     ]
    },
    {
     "name": "stdout",
     "output_type": "stream",
     "text": [
      "Thu May  6 11:25:06 2021\n"
     ]
    },
    {
     "name": "stderr",
     "output_type": "stream",
     "text": [
      " 10%|█         | 5/50 [01:23<12:47, 17.06s/it]"
     ]
    },
    {
     "name": "stdout",
     "output_type": "stream",
     "text": [
      "Thu May  6 11:25:24 2021\n"
     ]
    },
    {
     "name": "stderr",
     "output_type": "stream",
     "text": [
      " 12%|█▏        | 6/50 [01:41<12:40, 17.29s/it]"
     ]
    },
    {
     "name": "stdout",
     "output_type": "stream",
     "text": [
      "Thu May  6 11:25:41 2021\n"
     ]
    },
    {
     "name": "stderr",
     "output_type": "stream",
     "text": [
      " 14%|█▍        | 7/50 [01:57<12:08, 16.95s/it]"
     ]
    },
    {
     "name": "stdout",
     "output_type": "stream",
     "text": [
      "Thu May  6 11:25:58 2021\n"
     ]
    },
    {
     "name": "stderr",
     "output_type": "stream",
     "text": [
      " 16%|█▌        | 8/50 [02:13<11:37, 16.60s/it]"
     ]
    },
    {
     "name": "stdout",
     "output_type": "stream",
     "text": [
      "Thu May  6 11:26:13 2021\n"
     ]
    },
    {
     "name": "stderr",
     "output_type": "stream",
     "text": [
      " 18%|█▊        | 9/50 [02:33<12:04, 17.68s/it]"
     ]
    },
    {
     "name": "stdout",
     "output_type": "stream",
     "text": [
      "Thu May  6 11:26:34 2021\n"
     ]
    },
    {
     "name": "stderr",
     "output_type": "stream",
     "text": [
      " 20%|██        | 10/50 [03:01<13:52, 20.81s/it]"
     ]
    },
    {
     "name": "stdout",
     "output_type": "stream",
     "text": [
      "Thu May  6 11:27:01 2021\n"
     ]
    }
   ],
   "source": [
    "%%time\n",
    "import pandas as pd\n",
    "from Grid_Tuning import grid_trading\n",
    "from tqdm import tqdm \n",
    "import time\n",
    "\n",
    "FILENAME = \"Binance_BTC_1m.csv\"\n",
    "data = pd.read_csv(FILENAME)\n",
    "optimization=[]\n",
    "for interval_for_rsv in tqdm(range(10, 60)):\n",
    "    records_df, final_profit = grid_trading(\n",
    "        data, INTERVALS_FOR_RSV=interval_for_rsv, INTERVAL_FOR_BOUNDS=9 * 24 * 60, SD_PARAMETER=2,\n",
    "    )\n",
    "    optimization.append([final_profit, interval_for_rsv, 9, 2])\n",
    "    print(time.ctime())\n",
    "# optimization=[]\n",
    "# for interval_for_rsv in tqdm(range(10, 60)):\n",
    "#     for interval_for_bounds in range(2, 20):\n",
    "#         for sd_parameter in range(2,5):\n",
    "#             records_df, final_profit = grid_trading(\n",
    "#                 data, INTERVALS_FOR_RSV=interval_for_rsv, INTERVAL_FOR_BOUNDS=interval_for_bounds * 24 * 60, SD_PARAMETER=sd_parameter,\n",
    "#             )\n",
    "#             optimization.append([final_profit, interval_for_rsv, interval_for_bounds, sd_parameter])\n",
    "#             print(time.ctime())"
   ]
  },
  {
   "cell_type": "code",
   "execution_count": 9,
   "id": "attended-internship",
   "metadata": {},
   "outputs": [
    {
     "data": {
      "text/html": [
       "<div>\n",
       "<style scoped>\n",
       "    .dataframe tbody tr th:only-of-type {\n",
       "        vertical-align: middle;\n",
       "    }\n",
       "\n",
       "    .dataframe tbody tr th {\n",
       "        vertical-align: top;\n",
       "    }\n",
       "\n",
       "    .dataframe thead th {\n",
       "        text-align: right;\n",
       "    }\n",
       "</style>\n",
       "<table border=\"1\" class=\"dataframe\">\n",
       "  <thead>\n",
       "    <tr style=\"text-align: right;\">\n",
       "      <th></th>\n",
       "      <th>FinalProfit</th>\n",
       "      <th>IntervalForRSV</th>\n",
       "      <th>IntervalForBounds</th>\n",
       "      <th>SDParameter</th>\n",
       "    </tr>\n",
       "  </thead>\n",
       "  <tbody>\n",
       "    <tr>\n",
       "      <th>0</th>\n",
       "      <td>30883</td>\n",
       "      <td>10</td>\n",
       "      <td>2</td>\n",
       "      <td>2</td>\n",
       "    </tr>\n",
       "    <tr>\n",
       "      <th>1</th>\n",
       "      <td>18286</td>\n",
       "      <td>10</td>\n",
       "      <td>2</td>\n",
       "      <td>3</td>\n",
       "    </tr>\n",
       "    <tr>\n",
       "      <th>2</th>\n",
       "      <td>14880</td>\n",
       "      <td>10</td>\n",
       "      <td>2</td>\n",
       "      <td>4</td>\n",
       "    </tr>\n",
       "    <tr>\n",
       "      <th>3</th>\n",
       "      <td>49662</td>\n",
       "      <td>10</td>\n",
       "      <td>3</td>\n",
       "      <td>2</td>\n",
       "    </tr>\n",
       "    <tr>\n",
       "      <th>4</th>\n",
       "      <td>19987</td>\n",
       "      <td>10</td>\n",
       "      <td>3</td>\n",
       "      <td>3</td>\n",
       "    </tr>\n",
       "    <tr>\n",
       "      <th>...</th>\n",
       "      <td>...</td>\n",
       "      <td>...</td>\n",
       "      <td>...</td>\n",
       "      <td>...</td>\n",
       "    </tr>\n",
       "    <tr>\n",
       "      <th>2695</th>\n",
       "      <td>14743</td>\n",
       "      <td>59</td>\n",
       "      <td>18</td>\n",
       "      <td>3</td>\n",
       "    </tr>\n",
       "    <tr>\n",
       "      <th>2696</th>\n",
       "      <td>18259</td>\n",
       "      <td>59</td>\n",
       "      <td>18</td>\n",
       "      <td>4</td>\n",
       "    </tr>\n",
       "    <tr>\n",
       "      <th>2697</th>\n",
       "      <td>30286</td>\n",
       "      <td>59</td>\n",
       "      <td>19</td>\n",
       "      <td>2</td>\n",
       "    </tr>\n",
       "    <tr>\n",
       "      <th>2698</th>\n",
       "      <td>14175</td>\n",
       "      <td>59</td>\n",
       "      <td>19</td>\n",
       "      <td>3</td>\n",
       "    </tr>\n",
       "    <tr>\n",
       "      <th>2699</th>\n",
       "      <td>18345</td>\n",
       "      <td>59</td>\n",
       "      <td>19</td>\n",
       "      <td>4</td>\n",
       "    </tr>\n",
       "  </tbody>\n",
       "</table>\n",
       "<p>2700 rows × 4 columns</p>\n",
       "</div>"
      ],
      "text/plain": [
       "      FinalProfit  IntervalForRSV  IntervalForBounds  SDParameter\n",
       "0           30883              10                  2            2\n",
       "1           18286              10                  2            3\n",
       "2           14880              10                  2            4\n",
       "3           49662              10                  3            2\n",
       "4           19987              10                  3            3\n",
       "...           ...             ...                ...          ...\n",
       "2695        14743              59                 18            3\n",
       "2696        18259              59                 18            4\n",
       "2697        30286              59                 19            2\n",
       "2698        14175              59                 19            3\n",
       "2699        18345              59                 19            4\n",
       "\n",
       "[2700 rows x 4 columns]"
      ]
     },
     "execution_count": 9,
     "metadata": {},
     "output_type": "execute_result"
    }
   ],
   "source": [
    "# optimization_df = pd.DataFrame(\n",
    "#     optimization,\n",
    "#     columns=[\"FinalProfit\", \"IntervalForRSV\", \"IntervalForBounds\", \"SDParameter\",],\n",
    "# )\n",
    "# optimization_df.to_excel(\"Training.xlsx\")\n",
    "optimization_df = pd.read_excel(\"Training.xlsx\")\n",
    "optimization_df"
   ]
  },
  {
   "cell_type": "code",
   "execution_count": 19,
   "id": "productive-intelligence",
   "metadata": {},
   "outputs": [],
   "source": [
    "df = optimization_df[\n",
    "    optimization_df[\"FinalProfit\"] == optimization_df[\"FinalProfit\"].max()\n",
    "]\n",
    "SDParameter = df[\"SDParameter\"].unique()\n",
    "IntervalForBounds = df[\"IntervalForBounds\"].unique()\n",
    "IntervalForRSV = df[\"IntervalForRSV\"].unique()\n",
    "FinalProfit = df[\"FinalProfit\"].unique()"
   ]
  },
  {
   "cell_type": "code",
   "execution_count": 21,
   "id": "reasonable-disaster",
   "metadata": {},
   "outputs": [
    {
     "data": {
      "text/plain": [
       "array([2], dtype=int64)"
      ]
     },
     "execution_count": 21,
     "metadata": {},
     "output_type": "execute_result"
    }
   ],
   "source": [
    "SDParameter"
   ]
  },
  {
   "cell_type": "code",
   "execution_count": 22,
   "id": "wireless-shuttle",
   "metadata": {},
   "outputs": [
    {
     "data": {
      "text/plain": [
       "array([9], dtype=int64)"
      ]
     },
     "execution_count": 22,
     "metadata": {},
     "output_type": "execute_result"
    }
   ],
   "source": [
    "IntervalForBounds"
   ]
  },
  {
   "cell_type": "code",
   "execution_count": 18,
   "id": "marked-break",
   "metadata": {},
   "outputs": [
    {
     "data": {
      "text/plain": [
       "array([10, 11, 12, 13, 14, 15, 16, 17, 18, 19, 20, 21, 22, 23, 24, 25, 26,\n",
       "       27, 28, 29, 30, 31, 32, 33, 34, 35, 36, 37, 38, 39, 40, 41, 42, 43,\n",
       "       44, 45, 46, 47, 48, 49, 50, 51, 52, 53, 54, 55, 56, 57, 58, 59],\n",
       "      dtype=int64)"
      ]
     },
     "execution_count": 18,
     "metadata": {},
     "output_type": "execute_result"
    }
   ],
   "source": [
    "IntervalForRSV"
   ]
  },
  {
   "cell_type": "code",
   "execution_count": 20,
   "id": "martial-sussex",
   "metadata": {},
   "outputs": [
    {
     "data": {
      "text/plain": [
       "array([51327], dtype=int64)"
      ]
     },
     "execution_count": 20,
     "metadata": {},
     "output_type": "execute_result"
    }
   ],
   "source": [
    "FinalProfit"
   ]
  },
  {
   "cell_type": "code",
   "execution_count": 6,
   "id": "thrown-optimum",
   "metadata": {},
   "outputs": [
    {
     "name": "stdout",
     "output_type": "stream",
     "text": [
      "The lab_black extension is already loaded. To reload it, use:\n",
      "  %reload_ext lab_black\n"
     ]
    }
   ],
   "source": [
    "%load_ext lab_black\n",
    "%config Completer.use_jedi = False\n",
    "import pandas as pd\n",
    "\n",
    "f = \"Binance_BTC_1m.csv\"\n",
    "data = pd.read_csv(f)\n",
    "data\n",
    "N = 24 * 60\n",
    "M = 2\n",
    "CLOSE = \"Close\"\n",
    "TIMESTAMP = \"TimeStamp\"\n",
    "\n",
    "\n",
    "def calc_RSV(prices, n=9):\n",
    "    C = prices\n",
    "    H = prices.rolling(n).max()\n",
    "    L = prices.rolling(n).min()\n",
    "    RSV = (C - L) / (H - L)\n",
    "    return RSV\n",
    "\n",
    "\n",
    "RSV = calc_RSV(data[\"Close\"])\n",
    "data[\"RSV\"] = RSV"
   ]
  },
  {
   "cell_type": "code",
   "execution_count": 13,
   "id": "military-tablet",
   "metadata": {},
   "outputs": [
    {
     "name": "stdout",
     "output_type": "stream",
     "text": [
      "11266.533238417556 230.090456891965\n"
     ]
    }
   ],
   "source": [
    "def calc_bbands(prices, n=N, m=M):\n",
    "    middle_vals = prices.rolling(n).mean()\n",
    "    std_vals = prices.rolling(n).std(ddof=0)\n",
    "    upper_vals = middle_vals + m * std_vals\n",
    "    lower_vals = middle_vals - m * std_vals\n",
    "    return upper_vals, middle_vals, lower_vals\n",
    "\n",
    "\n",
    "upper, middle, lower = calc_bbands(data[\"Close\"])\n",
    "data.loc[:, \"boll_upper\"] = upper\n",
    "# data['boll_middle'] = middle\n",
    "data.loc[:, \"boll_lower\"] = lower\n",
    "data = data.dropna()\n",
    "data.reset_index(drop=True, inplace=True)\n",
    "data.loc[:, \"range\"] = data.loc[:, \"boll_upper\"] - data.loc[:, \"boll_lower\"]\n",
    "data[\"range\"].max() - data[\"range\"].min()\n",
    "print(data[\"range\"].max(), data[\"range\"].min())"
   ]
  },
  {
   "cell_type": "code",
   "execution_count": 17,
   "id": "rocky-split",
   "metadata": {},
   "outputs": [
    {
     "data": {
      "text/plain": [
       "0.22727438004043043"
      ]
     },
     "execution_count": 17,
     "metadata": {},
     "output_type": "execute_result"
    }
   ],
   "source": [
    "maxv, minv = data[\"range\"].max(), data[\"range\"].min()\n",
    "rate = pow(maxv / minv, 1 / 19)\n",
    "rate - 1"
   ]
  },
  {
   "cell_type": "code",
   "execution_count": 6,
   "id": "acceptable-toddler",
   "metadata": {},
   "outputs": [
    {
     "data": {
      "text/plain": [
       "20947"
      ]
     },
     "execution_count": 6,
     "metadata": {},
     "output_type": "execute_result"
    }
   ],
   "source": [
    "def get_final_profit(df):\n",
    "    temp = df.tail(1)\n",
    "    final_profit = temp.iloc[0][\"Profit\"]\n",
    "    return final_profit\n",
    "\n",
    "\n",
    "get_final_profit(df)"
   ]
  },
  {
   "cell_type": "code",
   "execution_count": 83,
   "id": "utility-communications",
   "metadata": {},
   "outputs": [],
   "source": [
    "# data1 = data[data[\"Close\"] > data[\"boll_upper\"]]\n",
    "# data1"
   ]
  },
  {
   "cell_type": "code",
   "execution_count": 84,
   "id": "settled-mounting",
   "metadata": {},
   "outputs": [],
   "source": [
    "R = 0.005\n",
    "BEGINNING_CASH = 100000\n",
    "FEE = 0.005\n",
    "records = []\n",
    "profit = 0\n",
    "cash = BEGINNING_CASH\n",
    "n = 0\n",
    "last_price = 0\n",
    "upper_bound = data.loc[0][\"boll_upper\"]\n",
    "lower_bound = data.loc[0][\"boll_lower\"]\n",
    "start_index = 0\n",
    "r = 0.005\n",
    "BOLL_UPPER = \"boll_upper\"\n",
    "BOLL_LOWER = \"boll_lower\""
   ]
  },
  {
   "cell_type": "code",
   "execution_count": 85,
   "id": "compatible-forum",
   "metadata": {
    "tags": []
   },
   "outputs": [
    {
     "name": "stdout",
     "output_type": "stream",
     "text": [
      "CPU times: user 9.89 s, sys: 92.9 ms, total: 9.99 s\n",
      "Wall time: 10.3 s\n"
     ]
    }
   ],
   "source": [
    "%%time\n",
    "for index, row in data.iterrows():\n",
    "    time = row[TIMESTAMP]\n",
    "    price = row[CLOSE]\n",
    "    upper_bound = row[BOLL_UPPER]\n",
    "    lower_bound = row[BOLL_LOWER]\n",
    "    trading_buying_price = price * (1 + FEE)\n",
    "    trading_selling_price = price * (1 - FEE)\n",
    "\n",
    "    if n == 0 and (\n",
    "        trading_buying_price < upper_bound\n",
    "        or trading_buying_price < last_price * (1 - R)\n",
    "    ):\n",
    "        if trading_buying_price > lower_bound:\n",
    "            last_price = trading_buying_price\n",
    "            n = cash // trading_buying_price\n",
    "            if n > 0:\n",
    "                cash -= n * trading_buying_price\n",
    "                profit = cash - BEGINNING_CASH\n",
    "                records.append(\n",
    "                    [\n",
    "                        \"Buying\",\n",
    "                        round(trading_buying_price),\n",
    "                        n,\n",
    "                        round(cash),\n",
    "                        round(profit),\n",
    "                        lower_bound,\n",
    "                        upper_bound,\n",
    "                        time\n",
    "                    ]\n",
    "                )\n",
    "    \n",
    "    elif n > 0 and (\n",
    "        trading_selling_price > lower_bound\n",
    "        or trading_selling_price > last_price * (1 + R)\n",
    "    ):\n",
    "        if trading_selling_price < upper_bound and trading_selling_price>last_price:\n",
    "            last_price = trading_selling_price\n",
    "            cash += n * trading_selling_price\n",
    "            profit = cash - BEGINNING_CASH\n",
    "            n = 0\n",
    "            records.append(\n",
    "                [\n",
    "                    \"Selling\",\n",
    "                    round(trading_selling_price),\n",
    "                    n,\n",
    "                    round(cash),\n",
    "                    round(profit),\n",
    "                    lower_bound,\n",
    "                    upper_bound,\n",
    "                    time\n",
    "                ]\n",
    "            )"
   ]
  },
  {
   "cell_type": "code",
   "execution_count": 79,
   "id": "elegant-glass",
   "metadata": {},
   "outputs": [],
   "source": [
    "def check_last_row(records_df):\n",
    "    temp = records_df.tail(1)\n",
    "    last_action = temp.iloc[0][\"Action\"]\n",
    "    if last_action == \"Buying\":\n",
    "        records_df = records_df.iloc[:-1, :]\n",
    "    return records_df"
   ]
  },
  {
   "cell_type": "code",
   "execution_count": 86,
   "id": "copyrighted-desktop",
   "metadata": {},
   "outputs": [
    {
     "data": {
      "text/html": [
       "<div>\n",
       "<style scoped>\n",
       "    .dataframe tbody tr th:only-of-type {\n",
       "        vertical-align: middle;\n",
       "    }\n",
       "\n",
       "    .dataframe tbody tr th {\n",
       "        vertical-align: top;\n",
       "    }\n",
       "\n",
       "    .dataframe thead th {\n",
       "        text-align: right;\n",
       "    }\n",
       "</style>\n",
       "<table border=\"1\" class=\"dataframe\">\n",
       "  <thead>\n",
       "    <tr style=\"text-align: right;\">\n",
       "      <th></th>\n",
       "      <th>Action</th>\n",
       "      <th>Price</th>\n",
       "      <th>n</th>\n",
       "      <th>Cash</th>\n",
       "      <th>Profit</th>\n",
       "      <th>LowerBound</th>\n",
       "      <th>UpperBound</th>\n",
       "      <th>Hour</th>\n",
       "    </tr>\n",
       "  </thead>\n",
       "  <tbody>\n",
       "    <tr>\n",
       "      <th>0</th>\n",
       "      <td>Buying</td>\n",
       "      <td>14591</td>\n",
       "      <td>6.0</td>\n",
       "      <td>12452</td>\n",
       "      <td>-87548</td>\n",
       "      <td>13697.116169</td>\n",
       "      <td>14591.966275</td>\n",
       "      <td>05/11/20 19:20</td>\n",
       "    </tr>\n",
       "    <tr>\n",
       "      <th>1</th>\n",
       "      <td>Selling</td>\n",
       "      <td>14608</td>\n",
       "      <td>0.0</td>\n",
       "      <td>100102</td>\n",
       "      <td>102</td>\n",
       "      <td>13714.678840</td>\n",
       "      <td>14611.832396</td>\n",
       "      <td>05/11/20 19:50</td>\n",
       "    </tr>\n",
       "    <tr>\n",
       "      <th>2</th>\n",
       "      <td>Buying</td>\n",
       "      <td>15027</td>\n",
       "      <td>6.0</td>\n",
       "      <td>9940</td>\n",
       "      <td>-90060</td>\n",
       "      <td>13733.006106</td>\n",
       "      <td>15100.451533</td>\n",
       "      <td>06/11/20 1:31</td>\n",
       "    </tr>\n",
       "    <tr>\n",
       "      <th>3</th>\n",
       "      <td>Selling</td>\n",
       "      <td>15040</td>\n",
       "      <td>0.0</td>\n",
       "      <td>100180</td>\n",
       "      <td>180</td>\n",
       "      <td>13733.542496</td>\n",
       "      <td>15113.093407</td>\n",
       "      <td>06/11/20 1:43</td>\n",
       "    </tr>\n",
       "    <tr>\n",
       "      <th>4</th>\n",
       "      <td>Buying</td>\n",
       "      <td>15123</td>\n",
       "      <td>6.0</td>\n",
       "      <td>9443</td>\n",
       "      <td>-90557</td>\n",
       "      <td>13733.098010</td>\n",
       "      <td>15129.061407</td>\n",
       "      <td>06/11/20 1:55</td>\n",
       "    </tr>\n",
       "    <tr>\n",
       "      <th>...</th>\n",
       "      <td>...</td>\n",
       "      <td>...</td>\n",
       "      <td>...</td>\n",
       "      <td>...</td>\n",
       "      <td>...</td>\n",
       "      <td>...</td>\n",
       "      <td>...</td>\n",
       "      <td>...</td>\n",
       "    </tr>\n",
       "    <tr>\n",
       "      <th>221</th>\n",
       "      <td>Selling</td>\n",
       "      <td>63649</td>\n",
       "      <td>0.0</td>\n",
       "      <td>121166</td>\n",
       "      <td>21166</td>\n",
       "      <td>61010.789521</td>\n",
       "      <td>64470.568340</td>\n",
       "      <td>14/04/21 12:41</td>\n",
       "    </tr>\n",
       "    <tr>\n",
       "      <th>222</th>\n",
       "      <td>Buying</td>\n",
       "      <td>64309</td>\n",
       "      <td>1.0</td>\n",
       "      <td>56857</td>\n",
       "      <td>-43143</td>\n",
       "      <td>61016.439054</td>\n",
       "      <td>64469.904112</td>\n",
       "      <td>14/04/21 12:42</td>\n",
       "    </tr>\n",
       "    <tr>\n",
       "      <th>223</th>\n",
       "      <td>Selling</td>\n",
       "      <td>64379</td>\n",
       "      <td>0.0</td>\n",
       "      <td>121236</td>\n",
       "      <td>21236</td>\n",
       "      <td>61488.006606</td>\n",
       "      <td>64456.706769</td>\n",
       "      <td>14/04/21 14:14</td>\n",
       "    </tr>\n",
       "    <tr>\n",
       "      <th>224</th>\n",
       "      <td>Buying</td>\n",
       "      <td>64270</td>\n",
       "      <td>1.0</td>\n",
       "      <td>56966</td>\n",
       "      <td>-43034</td>\n",
       "      <td>62203.666800</td>\n",
       "      <td>64414.138644</td>\n",
       "      <td>14/04/21 16:47</td>\n",
       "    </tr>\n",
       "    <tr>\n",
       "      <th>225</th>\n",
       "      <td>Selling</td>\n",
       "      <td>64287</td>\n",
       "      <td>0.0</td>\n",
       "      <td>121253</td>\n",
       "      <td>21253</td>\n",
       "      <td>62374.114247</td>\n",
       "      <td>64537.295933</td>\n",
       "      <td>14/04/21 19:41</td>\n",
       "    </tr>\n",
       "  </tbody>\n",
       "</table>\n",
       "<p>226 rows × 8 columns</p>\n",
       "</div>"
      ],
      "text/plain": [
       "      Action  Price    n    Cash  Profit    LowerBound    UpperBound  \\\n",
       "0     Buying  14591  6.0   12452  -87548  13697.116169  14591.966275   \n",
       "1    Selling  14608  0.0  100102     102  13714.678840  14611.832396   \n",
       "2     Buying  15027  6.0    9940  -90060  13733.006106  15100.451533   \n",
       "3    Selling  15040  0.0  100180     180  13733.542496  15113.093407   \n",
       "4     Buying  15123  6.0    9443  -90557  13733.098010  15129.061407   \n",
       "..       ...    ...  ...     ...     ...           ...           ...   \n",
       "221  Selling  63649  0.0  121166   21166  61010.789521  64470.568340   \n",
       "222   Buying  64309  1.0   56857  -43143  61016.439054  64469.904112   \n",
       "223  Selling  64379  0.0  121236   21236  61488.006606  64456.706769   \n",
       "224   Buying  64270  1.0   56966  -43034  62203.666800  64414.138644   \n",
       "225  Selling  64287  0.0  121253   21253  62374.114247  64537.295933   \n",
       "\n",
       "               Hour  \n",
       "0    05/11/20 19:20  \n",
       "1    05/11/20 19:50  \n",
       "2     06/11/20 1:31  \n",
       "3     06/11/20 1:43  \n",
       "4     06/11/20 1:55  \n",
       "..              ...  \n",
       "221  14/04/21 12:41  \n",
       "222  14/04/21 12:42  \n",
       "223  14/04/21 14:14  \n",
       "224  14/04/21 16:47  \n",
       "225  14/04/21 19:41  \n",
       "\n",
       "[226 rows x 8 columns]"
      ]
     },
     "execution_count": 86,
     "metadata": {},
     "output_type": "execute_result"
    }
   ],
   "source": [
    "records_df = pd.DataFrame(\n",
    "    records,\n",
    "    columns=[\n",
    "        \"Action\",\n",
    "        \"Price\",\n",
    "        \"n\",\n",
    "        \"Cash\",\n",
    "        \"Profit\",\n",
    "        \"LowerBound\",\n",
    "        \"UpperBound\",\n",
    "        \"Hour\",\n",
    "    ],\n",
    ")\n",
    "# records_df.to_excel(\"GridActions03.xlsx\")\n",
    "records_df = check_last_row(records_df)\n",
    "records_df"
   ]
  },
  {
   "cell_type": "code",
   "execution_count": 58,
   "id": "capable-pound",
   "metadata": {},
   "outputs": [
    {
     "data": {
      "text/plain": [
       "<AxesSubplot:>"
      ]
     },
     "execution_count": 58,
     "metadata": {},
     "output_type": "execute_result"
    },
    {
     "data": {
      "image/png": "[encoded data removed]",
      "text/plain": [
       "<Figure size 2160x720 with 1 Axes>"
      ]
     },
     "metadata": {
      "needs_background": "light"
     },
     "output_type": "display_data"
    }
   ],
   "source": [
    "import matplotlib.pyplot as plt\n",
    "\n",
    "%matplotlib inline\n",
    "fig, ax = plt.subplots(figsize=(30, 10))\n",
    "# plt.ylim(0, 100)\n",
    "data[[CLOSE]].plot(ax=ax)"
   ]
  },
  {
   "cell_type": "code",
   "execution_count": 10,
   "id": "mechanical-dispatch",
   "metadata": {},
   "outputs": [],
   "source": [
    "# %%time\n",
    "# import numpy as np\n",
    "# from tqdm import tqdm\n",
    "# optimization_r=[]\n",
    "# fee = 0.002\n",
    "# for r in tqdm(np.arange(fee,0.1,0.001)):\n",
    "#     records=[]\n",
    "#     profit=0\n",
    "#     cash=100000\n",
    "#     n=0\n",
    "#     last_price=0\n",
    "#     for lower_bound in range(30000, 60000,10000):\n",
    "#         upper_bound=lower_bound+10000\n",
    "# #         print(f\"Lower Bound: {lower_bound}, Upper Bound: {upper_bound}, Profit: {profit}, Cash: {cash}, Number of coins: {n}, Last Price: {last_price}\")\n",
    "#         profit,records,cash,n, last_price=get_profit(r, records,profit,cash, lower_bound, upper_bound,n, last_price,)\n",
    "#     optimization_r.append([r, profit])\n",
    "# optimization_r_df = pd.DataFrame(optimization_r, columns=[\"Rate\", \"Profit\"])\n",
    "# pd.set_option(\"display.max_rows\", None, \"display.max_columns\", None)\n",
    "# # print(optimization_r_df)\n",
    "# optimization_r_df[optimization_r_df[\"Profit\"] == optimization_r_df[\"Profit\"].max()]"
   ]
  },
  {
   "cell_type": "code",
   "execution_count": 11,
   "id": "activated-people",
   "metadata": {
    "scrolled": true
   },
   "outputs": [],
   "source": [
    "# optimization_r_df"
   ]
  },
  {
   "cell_type": "code",
   "execution_count": 11,
   "id": "handed-major",
   "metadata": {},
   "outputs": [
    {
     "name": "stdout",
     "output_type": "stream",
     "text": [
      "Lower Bound: 30000, Upper Bound: 40000, Profit: 0, Cash: 100000, Number of coins: 0, Last Price: 0\n",
      "Lower Bound: 40000, Upper Bound: 50000, Profit: 26877.630059999996, Cash: 126877.63006, Number of coins: 0, Last Price: 31316.79\n",
      "Lower Bound: 50000, Upper Bound: 60000, Profit: 36090.816899999976, Cash: 136090.81689999998, Number of coins: 0, Last Price: 41753.86\n",
      "47569.182579999964\n",
      "Wall time: 1min 4s\n"
     ]
    },
    {
     "data": {
      "text/html": [
       "<div>\n",
       "<style scoped>\n",
       "    .dataframe tbody tr th:only-of-type {\n",
       "        vertical-align: middle;\n",
       "    }\n",
       "\n",
       "    .dataframe tbody tr th {\n",
       "        vertical-align: top;\n",
       "    }\n",
       "\n",
       "    .dataframe thead th {\n",
       "        text-align: right;\n",
       "    }\n",
       "</style>\n",
       "<table border=\"1\" class=\"dataframe\">\n",
       "  <thead>\n",
       "    <tr style=\"text-align: right;\">\n",
       "      <th></th>\n",
       "      <th>Action</th>\n",
       "      <th>Price</th>\n",
       "      <th>n</th>\n",
       "      <th>Cash</th>\n",
       "      <th>Profit</th>\n",
       "      <th>Hour</th>\n",
       "    </tr>\n",
       "  </thead>\n",
       "  <tbody>\n",
       "    <tr>\n",
       "      <th>0</th>\n",
       "      <td>Buying</td>\n",
       "      <td>-30099</td>\n",
       "      <td>3.0</td>\n",
       "      <td>9522</td>\n",
       "      <td>-90478</td>\n",
       "      <td>2021-01-02 20:20:00</td>\n",
       "    </tr>\n",
       "    <tr>\n",
       "      <th>1</th>\n",
       "      <td>Selling</td>\n",
       "      <td>31541</td>\n",
       "      <td>0.0</td>\n",
       "      <td>103957</td>\n",
       "      <td>3957</td>\n",
       "      <td>2021-01-02 21:59:00</td>\n",
       "    </tr>\n",
       "    <tr>\n",
       "      <th>2</th>\n",
       "      <td>Buying</td>\n",
       "      <td>-30200</td>\n",
       "      <td>3.0</td>\n",
       "      <td>13175</td>\n",
       "      <td>-86825</td>\n",
       "      <td>2021-01-04 18:46:00</td>\n",
       "    </tr>\n",
       "    <tr>\n",
       "      <th>3</th>\n",
       "      <td>Selling</td>\n",
       "      <td>31646</td>\n",
       "      <td>0.0</td>\n",
       "      <td>107923</td>\n",
       "      <td>7923</td>\n",
       "      <td>2021-01-04 22:00:00</td>\n",
       "    </tr>\n",
       "    <tr>\n",
       "      <th>4</th>\n",
       "      <td>Buying</td>\n",
       "      <td>-30275</td>\n",
       "      <td>3.0</td>\n",
       "      <td>16915</td>\n",
       "      <td>-83085</td>\n",
       "      <td>2021-01-05 13:52:00</td>\n",
       "    </tr>\n",
       "    <tr>\n",
       "      <th>5</th>\n",
       "      <td>Selling</td>\n",
       "      <td>31567</td>\n",
       "      <td>0.0</td>\n",
       "      <td>111428</td>\n",
       "      <td>11428</td>\n",
       "      <td>2021-01-05 17:30:00</td>\n",
       "    </tr>\n",
       "    <tr>\n",
       "      <th>6</th>\n",
       "      <td>Buying</td>\n",
       "      <td>-30123</td>\n",
       "      <td>3.0</td>\n",
       "      <td>20880</td>\n",
       "      <td>-79120</td>\n",
       "      <td>2021-01-22 06:37:00</td>\n",
       "    </tr>\n",
       "    <tr>\n",
       "      <th>7</th>\n",
       "      <td>Selling</td>\n",
       "      <td>31444</td>\n",
       "      <td>0.0</td>\n",
       "      <td>115024</td>\n",
       "      <td>15024</td>\n",
       "      <td>2021-01-22 07:02:00</td>\n",
       "    </tr>\n",
       "    <tr>\n",
       "      <th>8</th>\n",
       "      <td>Buying</td>\n",
       "      <td>-30077</td>\n",
       "      <td>3.0</td>\n",
       "      <td>24611</td>\n",
       "      <td>-75389</td>\n",
       "      <td>2021-01-22 08:24:00</td>\n",
       "    </tr>\n",
       "    <tr>\n",
       "      <th>9</th>\n",
       "      <td>Selling</td>\n",
       "      <td>31388</td>\n",
       "      <td>0.0</td>\n",
       "      <td>118587</td>\n",
       "      <td>18587</td>\n",
       "      <td>2021-01-22 12:14:00</td>\n",
       "    </tr>\n",
       "    <tr>\n",
       "      <th>10</th>\n",
       "      <td>Buying</td>\n",
       "      <td>-30053</td>\n",
       "      <td>3.0</td>\n",
       "      <td>28248</td>\n",
       "      <td>-71752</td>\n",
       "      <td>2021-01-27 22:34:00</td>\n",
       "    </tr>\n",
       "    <tr>\n",
       "      <th>11</th>\n",
       "      <td>Selling</td>\n",
       "      <td>31385</td>\n",
       "      <td>0.0</td>\n",
       "      <td>122216</td>\n",
       "      <td>22216</td>\n",
       "      <td>2021-01-28 04:18:00</td>\n",
       "    </tr>\n",
       "    <tr>\n",
       "      <th>12</th>\n",
       "      <td>Buying</td>\n",
       "      <td>-30029</td>\n",
       "      <td>4.0</td>\n",
       "      <td>1861</td>\n",
       "      <td>-98139</td>\n",
       "      <td>2021-01-28 08:15:00</td>\n",
       "    </tr>\n",
       "    <tr>\n",
       "      <th>13</th>\n",
       "      <td>Selling</td>\n",
       "      <td>31317</td>\n",
       "      <td>0.0</td>\n",
       "      <td>126878</td>\n",
       "      <td>26878</td>\n",
       "      <td>2021-01-28 11:45:00</td>\n",
       "    </tr>\n",
       "    <tr>\n",
       "      <th>14</th>\n",
       "      <td>Buying</td>\n",
       "      <td>-40200</td>\n",
       "      <td>3.0</td>\n",
       "      <td>6036</td>\n",
       "      <td>-93964</td>\n",
       "      <td>2021-01-08 02:14:00</td>\n",
       "    </tr>\n",
       "    <tr>\n",
       "      <th>15</th>\n",
       "      <td>Selling</td>\n",
       "      <td>41895</td>\n",
       "      <td>0.0</td>\n",
       "      <td>131469</td>\n",
       "      <td>31469</td>\n",
       "      <td>2021-01-08 23:09:00</td>\n",
       "    </tr>\n",
       "    <tr>\n",
       "      <th>16</th>\n",
       "      <td>Buying</td>\n",
       "      <td>-40050</td>\n",
       "      <td>3.0</td>\n",
       "      <td>11080</td>\n",
       "      <td>-88920</td>\n",
       "      <td>2021-01-09 02:30:00</td>\n",
       "    </tr>\n",
       "    <tr>\n",
       "      <th>17</th>\n",
       "      <td>Selling</td>\n",
       "      <td>41754</td>\n",
       "      <td>0.0</td>\n",
       "      <td>136091</td>\n",
       "      <td>36091</td>\n",
       "      <td>2021-02-08 20:53:00</td>\n",
       "    </tr>\n",
       "    <tr>\n",
       "      <th>18</th>\n",
       "      <td>Buying</td>\n",
       "      <td>-50219</td>\n",
       "      <td>2.0</td>\n",
       "      <td>35453</td>\n",
       "      <td>-64547</td>\n",
       "      <td>2021-02-16 20:30:00</td>\n",
       "    </tr>\n",
       "    <tr>\n",
       "      <th>19</th>\n",
       "      <td>Selling</td>\n",
       "      <td>52350</td>\n",
       "      <td>0.0</td>\n",
       "      <td>139943</td>\n",
       "      <td>39943</td>\n",
       "      <td>2021-02-18 03:45:00</td>\n",
       "    </tr>\n",
       "    <tr>\n",
       "      <th>20</th>\n",
       "      <td>Buying</td>\n",
       "      <td>-50134</td>\n",
       "      <td>2.0</td>\n",
       "      <td>39475</td>\n",
       "      <td>-60525</td>\n",
       "      <td>2021-02-23 12:50:00</td>\n",
       "    </tr>\n",
       "    <tr>\n",
       "      <th>21</th>\n",
       "      <td>Selling</td>\n",
       "      <td>52249</td>\n",
       "      <td>0.0</td>\n",
       "      <td>143765</td>\n",
       "      <td>43765</td>\n",
       "      <td>2021-03-03 20:42:00</td>\n",
       "    </tr>\n",
       "    <tr>\n",
       "      <th>22</th>\n",
       "      <td>Buying</td>\n",
       "      <td>-50030</td>\n",
       "      <td>2.0</td>\n",
       "      <td>43504</td>\n",
       "      <td>-56496</td>\n",
       "      <td>2021-03-04 08:06:00</td>\n",
       "    </tr>\n",
       "    <tr>\n",
       "      <th>23</th>\n",
       "      <td>Selling</td>\n",
       "      <td>52137</td>\n",
       "      <td>0.0</td>\n",
       "      <td>147569</td>\n",
       "      <td>47569</td>\n",
       "      <td>2021-03-09 07:47:00</td>\n",
       "    </tr>\n",
       "  </tbody>\n",
       "</table>\n",
       "</div>"
      ],
      "text/plain": [
       "     Action  Price    n    Cash  Profit                 Hour\n",
       "0    Buying -30099  3.0    9522  -90478  2021-01-02 20:20:00\n",
       "1   Selling  31541  0.0  103957    3957  2021-01-02 21:59:00\n",
       "2    Buying -30200  3.0   13175  -86825  2021-01-04 18:46:00\n",
       "3   Selling  31646  0.0  107923    7923  2021-01-04 22:00:00\n",
       "4    Buying -30275  3.0   16915  -83085  2021-01-05 13:52:00\n",
       "5   Selling  31567  0.0  111428   11428  2021-01-05 17:30:00\n",
       "6    Buying -30123  3.0   20880  -79120  2021-01-22 06:37:00\n",
       "7   Selling  31444  0.0  115024   15024  2021-01-22 07:02:00\n",
       "8    Buying -30077  3.0   24611  -75389  2021-01-22 08:24:00\n",
       "9   Selling  31388  0.0  118587   18587  2021-01-22 12:14:00\n",
       "10   Buying -30053  3.0   28248  -71752  2021-01-27 22:34:00\n",
       "11  Selling  31385  0.0  122216   22216  2021-01-28 04:18:00\n",
       "12   Buying -30029  4.0    1861  -98139  2021-01-28 08:15:00\n",
       "13  Selling  31317  0.0  126878   26878  2021-01-28 11:45:00\n",
       "14   Buying -40200  3.0    6036  -93964  2021-01-08 02:14:00\n",
       "15  Selling  41895  0.0  131469   31469  2021-01-08 23:09:00\n",
       "16   Buying -40050  3.0   11080  -88920  2021-01-09 02:30:00\n",
       "17  Selling  41754  0.0  136091   36091  2021-02-08 20:53:00\n",
       "18   Buying -50219  2.0   35453  -64547  2021-02-16 20:30:00\n",
       "19  Selling  52350  0.0  139943   39943  2021-02-18 03:45:00\n",
       "20   Buying -50134  2.0   39475  -60525  2021-02-23 12:50:00\n",
       "21  Selling  52249  0.0  143765   43765  2021-03-03 20:42:00\n",
       "22   Buying -50030  2.0   43504  -56496  2021-03-04 08:06:00\n",
       "23  Selling  52137  0.0  147569   47569  2021-03-09 07:47:00"
      ]
     },
     "execution_count": 11,
     "metadata": {},
     "output_type": "execute_result"
    }
   ],
   "source": [
    "%%time\n",
    "r=0.042\n",
    "fee = 0.002\n",
    "records=[]\n",
    "profit=0\n",
    "cash=100000\n",
    "n=0\n",
    "last_price=0\n",
    "for lower_bound in range(30000, 60000,10000):\n",
    "    upper_bound=lower_bound+10000\n",
    "    print(f\"Lower Bound: {lower_bound}, Upper Bound: {upper_bound}, Profit: {profit}, Cash: {cash}, Number of coins: {n}, Last Price: {last_price}\")\n",
    "    profit,records,cash,n, last_price=get_profit(r, records,profit,cash, lower_bound, upper_bound,n, last_price,)\n",
    "pd.set_option(\"display.max_rows\", None, \"display.max_columns\", None)\n",
    "records_df = pd.DataFrame(\n",
    "    records, columns=[\"Action\", \"Price\", \"n\", \"Cash\", \"Profit\", \"Hour\"]\n",
    ")\n",
    "print(profit)\n",
    "records_df"
   ]
  },
  {
   "cell_type": "code",
   "execution_count": null,
   "id": "ultimate-longer",
   "metadata": {},
   "outputs": [],
   "source": []
  },
  {
   "cell_type": "code",
   "execution_count": null,
   "id": "german-perry",
   "metadata": {},
   "outputs": [],
   "source": []
  }
 ],
 "metadata": {
  "kernelspec": {
   "display_name": "Python 3",
   "language": "python",
   "name": "python3"
  },
  "language_info": {
   "codemirror_mode": {
    "name": "ipython",
    "version": 3
   },
   "file_extension": ".py",
   "mimetype": "text/x-python",
   "name": "python",
   "nbconvert_exporter": "python",
   "pygments_lexer": "ipython3",
   "version": "3.8.8"
  }
 },
 "nbformat": 4,
 "nbformat_minor": 5
}
